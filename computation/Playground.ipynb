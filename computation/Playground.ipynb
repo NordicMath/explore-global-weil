{
 "cells": [
  {
   "cell_type": "code",
   "execution_count": 1,
   "metadata": {},
   "outputs": [],
   "source": [
    "%runfile ../zetatypes/util/lazylist.py\n",
    "%runfile ../zetatypes/ts/monoid.py\n",
    "%runfile ../zetatypes/ts/ring.py\n",
    "%runfile ../zetatypes/util/berlekamp.py\n",
    "%runfile ../zetatypes/ts/complex.py"
   ]
  },
  {
   "cell_type": "code",
   "execution_count": 2,
   "metadata": {},
   "outputs": [],
   "source": [
    "TS = ComplexTannakianSymbols()\n",
    "ts = TS.parseSymbol"
   ]
  },
  {
   "cell_type": "code",
   "execution_count": null,
   "metadata": {},
   "outputs": [],
   "source": []
  },
  {
   "cell_type": "code",
   "execution_count": null,
   "metadata": {},
   "outputs": [],
   "source": []
  },
  {
   "cell_type": "code",
   "execution_count": 58,
   "metadata": {},
   "outputs": [
    {
     "name": "stdout",
     "output_type": "stream",
     "text": [
      "1, 1, 3/2, 7/2, 93/8, 421/8, 42329/128, 431215/128, 2564481521/32768, 206462228393/32768, 6698341848950146273/2147483648, 42693635171492796825179/2147483648, 44869800570831762275269543828873596353/9223372036854775808, 1822747022594133624957628737486650448371538277/9223372036854775808, 2013299003703323061606510417816000505193258073881007869368742002216040573825/170141183460469231731687303715884105728, 3322406708375807261662211925698978471610251075813284841256354502911722702428467907844162279/170141183460469231731687303715884105728, 4053372878312793246950211680262691615265053651587624007878019292094648829846321874915950882423715198881585807957660854044059458106952387833252038153985/57896044618658097711785492504343953926634992332820282019728792003956564819968, 11038386335860566398264519362102671513139438018009330427666980942324682864134339468576850896818818913229156925635434080275542303777316015036960722448683071254780493620902091896937601/57896044618658097711785492504343953926634992332820282019728792003956564819968, 16429831690641738211316928097608860325802645357182265679225744775119512998677570329376282799338696799459937430522334300556159998317884121893339888888727797975665004489909250609934143187087946921018630815783099973152709547743518568142170936285041607756206714944627591210581551065340094579445143795150337/6703903964971298549787012499102923063739682910296196688861780721860882015036773488400937149083451713845015929093243025426876941405973284973216824503042048, 121845972899713260967667051009776059548626169088553789734636188661688270121892343912623476602015002898803792022252943959730012650800642088206962091483223555173071913856284848555205919991155025462411311473379085289966616009847460338992840438738460611490325024598870140689886563633602415563048583450497563514099935680846342107373956558803244149434149357030400341267/6703903964971298549787012499102923063739682910296196688861780721860882015036773488400937149083451713845015929093243025426876941405973284973216824503042048, ...\n"
     ]
    },
    {
     "data": {
      "text/plain": [
       "[ -1]\n",
       "[  0]\n",
       "[  0]\n",
       "[  1]\n",
       "[  0]\n",
       "[  0]\n",
       "[  0]\n",
       "[1/2]\n",
       "[  0]"
      ]
     },
     "execution_count": 58,
     "metadata": {},
     "output_type": "execute_result"
    }
   ],
   "source": [
    "\n",
    "degree = 3\n",
    "#testlist = LazyList(lambda n: 1 if n < 2 else testlist[n - 1] + testlist[n - 2])   #Fibonacci\n",
    "testlist = LazyList(lambda n: 1 if n < 2 else (n - 1) * testlist[n - 1] + 1/2 * testlist[n - 2]^2)\n",
    "rowmin = degree\n",
    "rowmax = 12\n",
    "\n",
    "print(testlist)\n",
    "\n",
    "M1 = matrix([[testlist[n - d] for d in range(1, degree + 1)] for n in range(rowmin, rowmax)])\n",
    "M2 = matrix([[n * testlist[n - d] for d in range(1, degree + 1)] for n in range(rowmin, rowmax)])\n",
    "M3 = matrix([[testlist[n - d]^2 for d in range(1, degree + 1)] for n in range(rowmin, rowmax)])\n",
    "M = block_matrix([[M1, M2, M3]])\n",
    "M\n",
    "\n",
    "B = matrix([[testlist[n]] for n in range(rowmin, rowmax)])\n",
    "B\n",
    "\n",
    "M.solve_right(B)"
   ]
  },
  {
   "cell_type": "code",
   "execution_count": null,
   "metadata": {},
   "outputs": [],
   "source": []
  },
  {
   "cell_type": "code",
   "execution_count": null,
   "metadata": {},
   "outputs": [],
   "source": []
  },
  {
   "cell_type": "code",
   "execution_count": null,
   "metadata": {},
   "outputs": [],
   "source": []
  },
  {
   "cell_type": "code",
   "execution_count": null,
   "metadata": {},
   "outputs": [],
   "source": []
  }
 ],
 "metadata": {
  "kernelspec": {
   "display_name": "SageMath 8.1",
   "language": "",
   "name": "sagemath"
  },
  "language_info": {
   "codemirror_mode": {
    "name": "ipython",
    "version": 2
   },
   "file_extension": ".py",
   "mimetype": "text/x-python",
   "name": "python",
   "nbconvert_exporter": "python",
   "pygments_lexer": "ipython2",
   "version": "2.7.15+"
  }
 },
 "nbformat": 4,
 "nbformat_minor": 2
}

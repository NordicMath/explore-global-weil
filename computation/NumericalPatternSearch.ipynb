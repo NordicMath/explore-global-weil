{
 "cells": [
  {
   "cell_type": "code",
   "execution_count": null,
   "metadata": {},
   "outputs": [],
   "source": []
  },
  {
   "cell_type": "code",
   "execution_count": 2,
   "metadata": {},
   "outputs": [],
   "source": [
    "all_ops = {\n",
    "    \"+1\": (lambda x: x + 1, \"-1\"),\n",
    "    \"-1\": (lambda x: x - 1, \"+1\"),\n",
    "    \"*2\": (lambda x: x * 2, \"/2\"),\n",
    "    \"/2\": (lambda x: x / 2, \"*2\"),\n",
    "    \"exp\": (lambda x: exp(x), \"log\"),\n",
    "    \"log\": (lambda x: log(x) if x > 0 else None, \"exp\"),\n",
    "    \"*pi\": (lambda x: x * RR(pi), \"/pi\"),\n",
    "    \"/pi\": (lambda x: x * RR(pi), \"*pi\"),\n",
    "    \"1/\": (lambda x: 1/x if x != 0 else None, \"1/\"),\n",
    "    \"sqrt\": (lambda x: sqrt(x), \"square\"),\n",
    "    \"square\": (lambda x: x^2, \"sqrt\"),\n",
    "    \"negate\": (lambda x: -x, \"negate\")\n",
    "}"
   ]
  },
  {
   "cell_type": "code",
   "execution_count": 3,
   "metadata": {},
   "outputs": [],
   "source": [
    "search_ops = {\n",
    "    #\"+1\": (lambda x: x + 1, \"-1\"),\n",
    "    #\"-1\": (lambda x: x - 1, \"+1\"),\n",
    "    \"*2\": (lambda x: x * 2, \"/2\"),\n",
    "    \"/2\": (lambda x: x / 2, \"*2\"),\n",
    "    \"exp\": (lambda x: exp(x), \"log\"),\n",
    "    \"log\": (lambda x: log(x) if x > 0 else None, \"exp\"),\n",
    "    \"*pi\": (lambda x: x * RR(pi), \"/pi\"),\n",
    "    #\"/pi\": (lambda x: x * RR(pi), \"*pi\"),\n",
    "    \"1/\": (lambda x: 1/x if x != 0 else None, \"1/\"),\n",
    "    \"sqrt\": (lambda x: sqrt(x), \"square\"),\n",
    "    \"square\": (lambda x: x^2, \"sqrt\"),\n",
    "    \"negate\": (lambda x: -x, \"negate\")\n",
    "}"
   ]
  },
  {
   "cell_type": "code",
   "execution_count": 4,
   "metadata": {},
   "outputs": [],
   "source": [
    "class NumContainer():\n",
    "    \n",
    "    def __init__(self, n, hist, prec):\n",
    "        self.n = n\n",
    "        self.hist = hist\n",
    "        self.prec = prec\n",
    "    \n",
    "    def __hash__(self):\n",
    "        return hash(round(self.n / (2*self.prec))*2*self.prec)\n",
    "    \n",
    "    def __eq__(self, other):\n",
    "        return round(self.n / self.prec) == round(other.n / self.prec)\n",
    "    \n",
    "    def __str__(self):\n",
    "        return str(self.n) + \" with history \" + str(self.hist)\n",
    "    \n",
    "\n",
    "\n",
    "def search(numbers, prec = 0.00001, depth = 3):\n",
    "    sets = [{NumContainer(n, [n], prec): NumContainer(n, [n], prec)} for n in numbers]\n",
    "    \n",
    "    for d in range(depth):\n",
    "        for i in range(len(numbers)):\n",
    "            additions = []\n",
    "            for n0 in sets[i]:\n",
    "                for name in search_ops:\n",
    "                    op = search_ops[name][0]\n",
    "                    nval = op(n0.n)\n",
    "                    if nval in RR and not (nval == None or RR(nval).is_NaN() or RR(nval).is_infinity()):\n",
    "                        if log(abs(nval)) < 1000 and log(abs(nval)) > -10:\n",
    "                            n1 = NumContainer(nval, n0.hist + [name],n0.prec)\n",
    "                            additions.append(n1)\n",
    "                            for i1 in range(len(numbers)):\n",
    "                                if i1 != i:\n",
    "                                    if n1 in sets[i1]:\n",
    "                                        n2 = sets[i1][n1]\n",
    "                                        yield (n1, n2)\n",
    "            for add in additions:\n",
    "                 sets[i][add] = add\n",
    "    \n",
    "\n",
    "def search_print(numbers, prec = 0.00001, depth = 3):\n",
    "    l = []\n",
    "    for n1, n2 in search(numbers, prec, depth):\n",
    "        print(n1, \"is connected to \", n2)\n",
    "        l.append((n1, n2))\n",
    "    return l"
   ]
  },
  {
   "cell_type": "code",
   "execution_count": null,
   "metadata": {},
   "outputs": [],
   "source": []
  },
  {
   "cell_type": "code",
   "execution_count": 5,
   "metadata": {},
   "outputs": [],
   "source": [
    "def isolate(n1, n2):\n",
    "    lefthist = n1.hist[:0:-1]\n",
    "    newhist = [all_ops[act][1] for act in lefthist]\n",
    "    return n2.hist + newhist"
   ]
  },
  {
   "cell_type": "code",
   "execution_count": null,
   "metadata": {},
   "outputs": [],
   "source": []
  },
  {
   "cell_type": "code",
   "execution_count": 10,
   "metadata": {},
   "outputs": [
    {
     "data": {
      "text/plain": [
       "[]"
      ]
     },
     "execution_count": 10,
     "metadata": {},
     "output_type": "execute_result"
    }
   ],
   "source": [
    "search_print([RR(389), RR(7.96892424103156)], prec = 10^(-10),depth = 5)"
   ]
  },
  {
   "cell_type": "code",
   "execution_count": null,
   "metadata": {},
   "outputs": [],
   "source": []
  },
  {
   "cell_type": "code",
   "execution_count": null,
   "metadata": {},
   "outputs": [],
   "source": []
  },
  {
   "cell_type": "code",
   "execution_count": 8,
   "metadata": {},
   "outputs": [
    {
     "data": {
      "text/plain": [
       "[]"
      ]
     },
     "execution_count": 8,
     "metadata": {},
     "output_type": "execute_result"
    }
   ],
   "source": [
    "search_print([RR(11), RR(28.9591226820056)], prec = 10^(-10),depth = 6)"
   ]
  },
  {
   "cell_type": "code",
   "execution_count": null,
   "metadata": {},
   "outputs": [],
   "source": []
  },
  {
   "cell_type": "markdown",
   "metadata": {},
   "source": [
    "log(-1/x) = pi*sqrt(1/289)\n",
    "x = -exp(-pi/sqrt(289))"
   ]
  },
  {
   "cell_type": "code",
   "execution_count": null,
   "metadata": {},
   "outputs": [],
   "source": []
  },
  {
   "cell_type": "code",
   "execution_count": null,
   "metadata": {},
   "outputs": [],
   "source": []
  },
  {
   "cell_type": "code",
   "execution_count": 18,
   "metadata": {},
   "outputs": [
    {
     "name": "stdout",
     "output_type": "stream",
     "text": [
      "0.000134381940515793 with history [0.240277688044594, '+1', 'log', '/2', 'square', 'square'] is connected to  0.000134372480515990 with history [11.0000000000000, 'square', '+1', 'square', '/2', '1/']\n",
      "0.0289371898709240 with history [0.240277688044594, '/2', 'exp', '*pi', 'exp', '1/'] is connected to  0.0289372184442784 with history [11.0000000000000, 'exp', '+1', 'log', '*pi', '1/']\n",
      "0.0898513522555034 with history [0.240277688044594, '/2', 'exp', '*pi', '*pi', '1/'] is connected to  0.0898514158086345 with history [11.0000000000000, '*pi', 'log', '*pi', '1/']\n",
      "0.0289371898709240 with history [0.240277688044594, '/2', 'exp', '*pi', 'negate', 'exp'] is connected to  0.0289372184442784 with history [11.0000000000000, 'exp', '+1', 'log', '*pi', '1/']\n",
      "0.0398399683655546 with history [0.240277688044594, 'exp', '*2', '*pi', '*pi', '1/'] is connected to  0.0398400247243197 with history [11.0000000000000, '*pi', 'log', 'square', '*2', '1/']\n",
      "0.0253629115920110 with history [0.240277688044594, 'exp', '*pi', '*pi', '*pi', '1/'] is connected to  0.0253629474711152 with history [11.0000000000000, '*pi', 'log', 'square', '*pi', '1/']\n",
      "0.0398399683655546 with history [0.240277688044594, 'exp', '*pi', '*pi', '1/', '/2'] is connected to  0.0398400247243197 with history [11.0000000000000, '*pi', 'log', 'square', '*2', '1/']\n",
      "0.00205757300761277 with history [0.240277688044594, 'log', '+1', '/2', 'square', 'square'] is connected to  0.00205761316872428 with history [11.0000000000000, 'square', '*2', '+1', '1/', '/2']\n"
     ]
    },
    {
     "data": {
      "text/plain": [
       "[(<__main__.NumContainer object at 0x7fed45105be0>,\n",
       "  <__main__.NumContainer object at 0x7fed449cff98>),\n",
       " (<__main__.NumContainer object at 0x7fed4468e048>,\n",
       "  <__main__.NumContainer object at 0x7fed45b7c0f0>),\n",
       " (<__main__.NumContainer object at 0x7fed4468e4a8>,\n",
       "  <__main__.NumContainer object at 0x7fed46012320>),\n",
       " (<__main__.NumContainer object at 0x7fed4468ea90>,\n",
       "  <__main__.NumContainer object at 0x7fed45b7c0f0>),\n",
       " (<__main__.NumContainer object at 0x7fed444abdd8>,\n",
       "  <__main__.NumContainer object at 0x7fed447f2828>),\n",
       " (<__main__.NumContainer object at 0x7fed45b13c18>,\n",
       "  <__main__.NumContainer object at 0x7fed447f2e48>),\n",
       " (<__main__.NumContainer object at 0x7fed45b13d68>,\n",
       "  <__main__.NumContainer object at 0x7fed447f2828>),\n",
       " (<__main__.NumContainer object at 0x7fed459d1278>,\n",
       "  <__main__.NumContainer object at 0x7fed444dae80>)]"
      ]
     },
     "execution_count": 18,
     "metadata": {},
     "output_type": "execute_result"
    }
   ],
   "source": [
    "search_print([RR(11), RR(0.24027768804459423)], prec = 10^(-7),depth = 5)"
   ]
  },
  {
   "cell_type": "code",
   "execution_count": null,
   "metadata": {},
   "outputs": [],
   "source": []
  },
  {
   "cell_type": "code",
   "execution_count": null,
   "metadata": {},
   "outputs": [],
   "source": []
  },
  {
   "cell_type": "code",
   "execution_count": null,
   "metadata": {},
   "outputs": [],
   "source": []
  },
  {
   "cell_type": "code",
   "execution_count": null,
   "metadata": {},
   "outputs": [],
   "source": []
  },
  {
   "cell_type": "code",
   "execution_count": null,
   "metadata": {},
   "outputs": [],
   "source": []
  },
  {
   "cell_type": "markdown",
   "metadata": {},
   "source": [
    "0.0898513522555034 with history (0.240277688044594, '/2', 'exp', '*pi', '*pi', '1/') is connected to  0.0898514158086345 with history (11.0000000000000, '*pi', 'log', '*pi', '1/')\n",
    "\n",
    "1/(exp(x/2) * pi * pi) = 1/(log(11*pi)*pi)\n",
    "x = 2log(log(11*pi)/pi)"
   ]
  },
  {
   "cell_type": "code",
   "execution_count": 20,
   "metadata": {},
   "outputs": [
    {
     "data": {
      "text/plain": [
       "0.240276273416834"
      ]
     },
     "execution_count": 20,
     "metadata": {},
     "output_type": "execute_result"
    }
   ],
   "source": [
    "RR(2*log(log(11*pi)/pi))"
   ]
  },
  {
   "cell_type": "code",
   "execution_count": null,
   "metadata": {},
   "outputs": [],
   "source": []
  },
  {
   "cell_type": "code",
   "execution_count": null,
   "metadata": {},
   "outputs": [],
   "source": []
  },
  {
   "cell_type": "code",
   "execution_count": 7,
   "metadata": {},
   "outputs": [
    {
     "name": "stdout",
     "output_type": "stream",
     "text": [
      "0.0253717336788930 with history [0.727188070492475, 'log', '/2', 'square'] is connected to  0.0253717336788929 with history [389.000000000000, '1/', '*pi', '*pi']\n",
      "0.159285070483373 with history [0.727188070492475, 'log', '/2', 'negate'] is connected to  0.159285070483373 with history [389.000000000000, '1/', 'sqrt', '*pi']\n",
      "-0.000817614514191156 with history [0.727188070492475, 'log', '*pi', '+1'] is connected to  -0.000818277342374783 with history [389.000000000000, '*pi', 'negate', '1/']\n",
      "1.00081761451419 with history [0.727188070492475, 'log', '*pi', 'negate'] is connected to  1.00081827734237 with history [389.000000000000, '*pi', '1/', '+1']\n",
      "-9.86154146165801 with history [0.727188070492475, 'log', '1/', '*pi'] is connected to  -9.86154146165801 with history [389.000000000000, 'sqrt', 'negate', '/2']\n",
      "0.159285070483373 with history [0.727188070492475, 'log', 'negate', '/2'] is connected to  0.159285070483373 with history [389.000000000000, '1/', 'sqrt', '*pi']\n",
      "1.00081761451419 with history [0.727188070492475, 'log', 'negate', '*pi'] is connected to  1.00081827734237 with history [389.000000000000, '*pi', '1/', '+1']\n",
      "0.159285070483373 with history [0.727188070492475, '1/', 'sqrt', 'log'] is connected to  0.159285070483373 with history [389.000000000000, '1/', 'sqrt', '*pi']\n"
     ]
    },
    {
     "data": {
      "text/plain": [
       "[(<__main__.NumContainer object at 0x7fed46126f98>,\n",
       "  <__main__.NumContainer object at 0x7fed4617e940>),\n",
       " (<__main__.NumContainer object at 0x7fed46126fd0>,\n",
       "  <__main__.NumContainer object at 0x7fed4617eb70>),\n",
       " (<__main__.NumContainer object at 0x7fed461cc080>,\n",
       "  <__main__.NumContainer object at 0x7fed4617e2e8>),\n",
       " (<__main__.NumContainer object at 0x7fed461cc1d0>,\n",
       "  <__main__.NumContainer object at 0x7fed46179c18>),\n",
       " (<__main__.NumContainer object at 0x7fed461cc320>,\n",
       "  <__main__.NumContainer object at 0x7fed46185b70>),\n",
       " (<__main__.NumContainer object at 0x7fed461cc668>,\n",
       "  <__main__.NumContainer object at 0x7fed4617eb70>),\n",
       " (<__main__.NumContainer object at 0x7fed461cc710>,\n",
       "  <__main__.NumContainer object at 0x7fed46179c18>),\n",
       " (<__main__.NumContainer object at 0x7fed4613a128>,\n",
       "  <__main__.NumContainer object at 0x7fed4617eb70>)]"
      ]
     },
     "execution_count": 7,
     "metadata": {},
     "output_type": "execute_result"
    }
   ],
   "source": [
    "search_print([RR(389), RR(e^(-2*pi/sqrt(389)))], prec = 0.000001)"
   ]
  },
  {
   "cell_type": "code",
   "execution_count": null,
   "metadata": {},
   "outputs": [],
   "source": []
  },
  {
   "cell_type": "code",
   "execution_count": null,
   "metadata": {},
   "outputs": [],
   "source": []
  },
  {
   "cell_type": "code",
   "execution_count": 43,
   "metadata": {},
   "outputs": [],
   "source": [
    "#search_print([RR(389), RR(exp(-2*pi/sqrt(389)))], prec = 10^(-10));"
   ]
  },
  {
   "cell_type": "code",
   "execution_count": 105,
   "metadata": {},
   "outputs": [],
   "source": [
    "#res = list(search([RR(389), RR(-0.6042576046984)], prec = 10^(-10), depth = 7))\n",
    "res = list(search([RR(389), RR(0.385172566491)], prec = 10^(-8), depth = 5))"
   ]
  },
  {
   "cell_type": "code",
   "execution_count": 108,
   "metadata": {},
   "outputs": [
    {
     "name": "stdout",
     "output_type": "stream",
     "text": [
      "-19.5670082223284 [389.000000000000, 'log', '+1', '+1', 'log', 'sqrt', 'exp', '-1', '/2', 'square', '1/']\n"
     ]
    }
   ],
   "source": [
    "for n1, n2 in res:\n",
    "    if n1.hist[0] == 389:\n",
    "        hist = isolate(n2, n1)\n",
    "    else:\n",
    "        hist = isolate(n1, n2)\n",
    "    \n",
    "    #n = hist[0]\n",
    "    \n",
    "    #for action in hist[1:]:\n",
    "        #op = all_ops[action][0]\n",
    "        #n = op(n)\n",
    "        \n",
    "    diff = log(abs(n1.n - n2.n))\n",
    "    \n",
    "    print(diff, hist)\n",
    "    \n",
    "    #print(n1, \"is connected to \", n2)"
   ]
  },
  {
   "cell_type": "markdown",
   "metadata": {},
   "source": [
    "1-3 are the same\n",
    "4 is different\n",
    "\n",
    "1:\n",
    "$$\\exp(x * \\pi * \\pi) = --(1/389)$$\n",
    "$$\\exp(x * \\pi * \\pi) = 1/389$$\n",
    "$$x = \\log(1/389)/\\pi^2$$\n",
    "\n",
    "2:\n",
    "$$1/(x * \\pi * \\pi) = -1/\\log(389)$$\n",
    "$$x = -\\log(389)/\\pi^2$$\n",
    "\n",
    "3:\n",
    "$$(exp(x * pi * pi)*pi)^2 = --(pi/389)^2$$\n",
    "$$exp(x * pi * pi)*pi = (+-)pi/389$$\n",
    "$$x * pi * pi = log((+-)1/389)$$\n",
    "$$x = log((+-)1/389)/pi^2$$\n",
    "\n",
    "4:\n",
    "$$((x/2/2)^2/2)^2 = (1/(pi*sqrt(389*2)))^2$$\n",
    "$$(x/2/2)^2/2 = (+-)1/(pi*sqrt(389*2))$$\n",
    "$$x = (+-)4sqrt(2/(pi*sqrt(389*2)))$$\n",
    "\n",
    "5:\n",
    "0.604257376655331 (389.000000000000, 'log', '1/', 'exp', 'sqrt', 'square', '-1', '*2', 'sqrt')\n",
    "$$sqrt((sqrt(exp(1/log(389)))^2 - 1) * 2)$$\n",
    "$$sqrt((exp(1/log(389)) - 1) * 2)$$\n",
    "\n",
    "6:\n",
    "-0.604257820290370 (389.000000000000, '/2', '+1', '*pi', '1/', '*2', 'exp', 'exp', '-1', 'log', 'log')\n",
    "$$log(log(exp(exp(2/(pi*(389/2 + 1)))) - 1))$$\n",
    "\n",
    "7:\n",
    "-0.604257652448222 (389.000000000000, '+1', 'exp', '/2', '/2', 'log', '1/', '/2', 'sqrt', 'sqrt', 'exp', 'negate', '/2')\n",
    "-exp(sqrt(sqrt((1/log(exp(389 + 1)/2/2))/2))))/2\n",
    "-exp(sqrt(sqrt((1/log(exp(389 + 1)/4))/2))))/2\n",
    "\n",
    "8:\n",
    "-0.604257604164496 (389.000000000000, '1/', 'sqrt', '*2', 'exp', '1/', '*pi', '-1', '-1', 'exp', '/2', '-1', 'sqrt', '-1')\n",
    "sqrt(exp(pi/exp(sqrt(1/389)*2) - 1 - 1)/2 - 1) - 1\n",
    "\n",
    "9:\n",
    "1.89833121779761 (389.000000000000, 'sqrt', '/2', '*pi', '*pi', '+1', 'square', '1/', 'sqrt', '1/', 'log', '/pi', 'sqrt', '/2')\n",
    "sqrt(log(1/(sqrt(1/square(pi*pi*sqrt(389)/2 + 1))))/pi)/2\n",
    "\n",
    "10:\n",
    "(389.000000000000, 'log', '+1', '+1', 'log', 'sqrt', 'exp', '-1', '/2', 'square', '1/')\n",
    "1/((exp(sqrt(log(log(389) + 2))) - 1)/2)^2"
   ]
  },
  {
   "cell_type": "code",
   "execution_count": null,
   "metadata": {},
   "outputs": [],
   "source": [
    "# Actual value:\n",
    "-0.6042576046984\n",
    "0.385172566491"
   ]
  },
  {
   "cell_type": "code",
   "execution_count": 15,
   "metadata": {},
   "outputs": [
    {
     "data": {
      "text/plain": [
       "-0.604236917840417"
      ]
     },
     "execution_count": 15,
     "metadata": {},
     "output_type": "execute_result"
    }
   ],
   "source": [
    "RR(-log(389)/(pi^2))\n",
    "# Not good"
   ]
  },
  {
   "cell_type": "code",
   "execution_count": 41,
   "metadata": {},
   "outputs": [
    {
     "data": {
      "text/plain": [
       "-0.604303561177701"
      ]
     },
     "execution_count": 41,
     "metadata": {},
     "output_type": "execute_result"
    }
   ],
   "source": [
    "RR(-4*sqrt(2/(pi*sqrt(389*2))))\n",
    "# Even worse"
   ]
  },
  {
   "cell_type": "code",
   "execution_count": 77,
   "metadata": {},
   "outputs": [
    {
     "data": {
      "text/plain": [
       "0.604257376655331"
      ]
     },
     "execution_count": 77,
     "metadata": {},
     "output_type": "execute_result"
    }
   ],
   "source": [
    "RR(-sqrt(2*(exp(1/log(389)) - 1)))\n",
    "# Pretty good"
   ]
  },
  {
   "cell_type": "code",
   "execution_count": 84,
   "metadata": {},
   "outputs": [
    {
     "data": {
      "text/plain": [
       "-0.604257820290370"
      ]
     },
     "execution_count": 84,
     "metadata": {},
     "output_type": "execute_result"
    }
   ],
   "source": [
    "RR(log(log(exp(exp(2*1/(pi*(389/2 + 1)))) - 1)))"
   ]
  },
  {
   "cell_type": "code",
   "execution_count": 91,
   "metadata": {},
   "outputs": [
    {
     "data": {
      "text/plain": [
       "-0.604257652448222"
      ]
     },
     "execution_count": 91,
     "metadata": {},
     "output_type": "execute_result"
    }
   ],
   "source": [
    "RR(-exp(sqrt(sqrt((1/log(exp(389 + 1)/4))/2)))/2)\n"
   ]
  },
  {
   "cell_type": "code",
   "execution_count": 101,
   "metadata": {},
   "outputs": [
    {
     "data": {
      "text/plain": [
       "-0.604257604164496"
      ]
     },
     "execution_count": 101,
     "metadata": {},
     "output_type": "execute_result"
    }
   ],
   "source": [
    "RR(sqrt(exp(pi/exp(sqrt(1/389)*2) - 1 - 1)/2 - 1) - 1)"
   ]
  },
  {
   "cell_type": "code",
   "execution_count": 98,
   "metadata": {},
   "outputs": [
    {
     "data": {
      "text/plain": [
       "-0.604257593876293"
      ]
     },
     "execution_count": 98,
     "metadata": {},
     "output_type": "execute_result"
    }
   ],
   "source": [
    "RR(-sqrt(log(1/(sqrt(1/(pi*pi*sqrt(389)/2 + 1)^2)))/pi)/2)"
   ]
  },
  {
   "cell_type": "code",
   "execution_count": 109,
   "metadata": {},
   "outputs": [
    {
     "data": {
      "text/plain": [
       "0.385172569698865"
      ]
     },
     "execution_count": 109,
     "metadata": {},
     "output_type": "execute_result"
    }
   ],
   "source": [
    "RR(1/((exp(sqrt(log(log(389) + 2))) - 1)/2)^2)"
   ]
  },
  {
   "cell_type": "code",
   "execution_count": null,
   "metadata": {},
   "outputs": [],
   "source": []
  },
  {
   "cell_type": "code",
   "execution_count": null,
   "metadata": {},
   "outputs": [],
   "source": []
  },
  {
   "cell_type": "code",
   "execution_count": 13,
   "metadata": {},
   "outputs": [],
   "source": [
    "def searchForInteger(n, prec = 0.00001, depth = 3):\n",
    "    \n",
    "    ops = [\n",
    "        #(lambda x: x + 1, \"+1\"),\n",
    "        #(lambda x: x - 1, \"-1\"),\n",
    "        (lambda x: x * 2, \"*2\"),\n",
    "        (lambda x: x / 2, \"/2\"),\n",
    "        (lambda x: exp(x), \"exp\"),\n",
    "        (lambda x: log(x) if x > 0 else None, \"log\"),\n",
    "        (lambda x: x * RR(pi), \"*pi\"),\n",
    "        (lambda x: 1/x if x != 0 else None, \"1/\"),\n",
    "        (lambda x: sqrt(x), \"sqrt\"),\n",
    "        (lambda x: x^2, \"square\"),\n",
    "        (lambda x: -x, \"negate\")\n",
    "    ]\n",
    "    \n",
    "    numbers = [(n, [n])]\n",
    "    for d in range(depth):\n",
    "        additions = []\n",
    "        \n",
    "        for n1, hist in numbers:\n",
    "            for op, name in ops:\n",
    "                n2 = op(n1)\n",
    "                if n2 in RR and not (RR(n2).is_NaN() or RR(n2).is_infinity()):\n",
    "                    if log(abs(n2)) < 300:\n",
    "                        nhist = hist + [name]\n",
    "                        additions.append((n2, nhist))\n",
    "                        if (abs(n2 - round(n2)) < prec):\n",
    "                            yield (n2, nhist)\n",
    "        \n",
    "        numbers.extend(additions)\n",
    "        \n",
    "        \n",
    "def searchForInteger_print(n, prec = 0.00001, depth = 3):\n",
    "    l = []\n",
    "    for n1, hist in searchForInteger(n, prec, depth):\n",
    "        print(n1, \"with history\", hist)\n",
    "        l.append((n1, hist))\n",
    "    return l"
   ]
  },
  {
   "cell_type": "code",
   "execution_count": null,
   "metadata": {},
   "outputs": [],
   "source": []
  },
  {
   "cell_type": "code",
   "execution_count": 17,
   "metadata": {},
   "outputs": [
    {
     "name": "stdout",
     "output_type": "stream",
     "text": [
      "6.60577012543628e-6 with history [-0.604257604698400, '*2', '*pi', '*pi', 'exp']\n",
      "6.60577012543628e-6 with history [-0.604257604698400, '*pi', '*2', '*pi', 'exp']\n",
      "6.60577012543628e-6 with history [-0.604257604698400, '*pi', '*pi', '*2', 'exp']\n",
      "6.60577012543628e-6 with history [-0.604257604698400, '*pi', '*pi', 'exp', 'square']\n",
      "7.29717552932348e-9 with history [-0.604257604698400, '*pi', '*pi', '*pi', 'exp']\n",
      "8.96842108287975e15 with history [-0.604257604698400, '*pi', 'square', 'exp', 'exp']\n",
      "8.06264996849856e-8 with history [-0.604257604698400, '1/', '*pi', '*pi', 'exp']\n",
      "6.60577012543628e-6 with history [-0.604257604698400, '*2', '*pi', '*pi', 'exp']\n",
      "6.60577012543628e-6 with history [-0.604257604698400, '*pi', '*2', '*pi', 'exp']\n",
      "6.60577012543628e-6 with history [-0.604257604698400, '*pi', '*pi', '*2', 'exp']\n",
      "6.60577012543628e-6 with history [-0.604257604698400, '*pi', '*pi', 'exp', 'square']\n",
      "7.29717552932348e-9 with history [-0.604257604698400, '*pi', '*pi', '*pi', 'exp']\n",
      "8.96842108287975e15 with history [-0.604257604698400, '*pi', 'square', 'exp', 'exp']\n",
      "8.06264996849856e-8 with history [-0.604257604698400, '1/', '*pi', '*pi', 'exp']\n",
      "6.60577012543628e-6 with history [-0.604257604698400, '*2', '*pi', '*pi', 'exp']\n",
      "6.60577012543628e-6 with history [-0.604257604698400, '*pi', '*2', '*pi', 'exp']\n",
      "6.60577012543628e-6 with history [-0.604257604698400, '*pi', '*pi', '*2', 'exp']\n",
      "6.60577012543628e-6 with history [-0.604257604698400, '*pi', '*pi', 'exp', 'square']\n",
      "7.29717552932348e-9 with history [-0.604257604698400, '*pi', '*pi', '*pi', 'exp']\n",
      "8.96842108287975e15 with history [-0.604257604698400, '*pi', 'square', 'exp', 'exp']\n",
      "8.06264996849856e-8 with history [-0.604257604698400, '1/', '*pi', '*pi', 'exp']\n",
      "6.60577012543628e-6 with history [-0.604257604698400, '*2', '*pi', '*pi', 'exp']\n",
      "6.60577012543628e-6 with history [-0.604257604698400, '*pi', '*2', '*pi', 'exp']\n",
      "6.60577012543628e-6 with history [-0.604257604698400, '*pi', '*pi', '*2', 'exp']\n",
      "6.60577012543628e-6 with history [-0.604257604698400, '*pi', '*pi', 'exp', 'square']\n",
      "7.29717552932348e-9 with history [-0.604257604698400, '*pi', '*pi', '*pi', 'exp']\n",
      "8.96842108287975e15 with history [-0.604257604698400, '*pi', 'square', 'exp', 'exp']\n",
      "8.06264996849856e-8 with history [-0.604257604698400, '1/', '*pi', '*pi', 'exp']\n",
      "6.60577012543628e-6 with history [-0.604257604698400, '*2', '*pi', '*pi', 'exp']\n",
      "6.60577012543628e-6 with history [-0.604257604698400, '*pi', '*2', '*pi', 'exp']\n",
      "6.60577012543628e-6 with history [-0.604257604698400, '*pi', '*pi', '*2', 'exp']\n",
      "6.60577012543628e-6 with history [-0.604257604698400, '*pi', '*pi', 'exp', 'square']\n",
      "7.29717552932348e-9 with history [-0.604257604698400, '*pi', '*pi', '*pi', 'exp']\n",
      "8.96842108287975e15 with history [-0.604257604698400, '*pi', 'square', 'exp', 'exp']\n",
      "8.06264996849856e-8 with history [-0.604257604698400, '1/', '*pi', '*pi', 'exp']\n",
      "2.53817580648614e-7 with history [-0.604257604698400, '*2', '*2', '*2', '*pi', 'exp']\n",
      "2.53817580648614e-7 with history [-0.604257604698400, '*2', '*2', '*pi', '*2', 'exp']\n",
      "2.53817580648614e-7 with history [-0.604257604698400, '*2', '*2', '*pi', 'exp', 'square']\n",
      "4.36361989501064e-11 with history [-0.604257604698400, '*2', '*2', '*pi', '*pi', 'exp']\n",
      "1.09851288223768e25 with history [-0.604257604698400, '*2', '*2', '*pi', 'square', 'exp']\n",
      "2.53817580648614e-7 with history [-0.604257604698400, '*2', '*pi', '*2', '*2', 'exp']\n",
      "2.53817580648614e-7 with history [-0.604257604698400, '*2', '*pi', '*2', 'exp', 'square']\n",
      "4.36361989501064e-11 with history [-0.604257604698400, '*2', '*pi', '*2', '*pi', 'exp']\n",
      "1.09851288223768e25 with history [-0.604257604698400, '*2', '*pi', '*2', 'square', 'exp']\n",
      "2.23250967537919e19 with history [-0.604257604698400, '*2', '*pi', 'exp', '1/', 'exp']\n",
      "2.53817580648614e-7 with history [-0.604257604698400, '*2', '*pi', 'exp', 'square', 'square']\n",
      "4.36361989501064e-11 with history [-0.604257604698400, '*2', '*pi', '*pi', '*2', 'exp']\n",
      "3.30288506271814e-6 with history [-0.604257604698400, '*2', '*pi', '*pi', 'exp', '/2']\n",
      "1.00000660579194 with history [-0.604257604698400, '*2', '*pi', '*pi', 'exp', 'exp']\n",
      "4.36361989501064e-11 with history [-0.604257604698400, '*2', '*pi', '*pi', 'exp', 'square']\n",
      "-6.60577012543628e-6 with history [-0.604257604698400, '*2', '*pi', '*pi', 'exp', 'negate']\n",
      "5.32487707057574e-17 with history [-0.604257604698400, '*2', '*pi', '*pi', '*pi', 'exp']\n",
      "6.10534470859173e61 with history [-0.604257604698400, '*2', '*pi', '*pi', 'square', 'exp']\n",
      "5.49286229448164e-7 with history [-0.604257604698400, '*2', '*pi', 'square', 'exp', '1/']\n",
      "4.64517818855173e19 with history [-0.604257604698400, '*2', '*pi', 'square', '*pi', 'exp']\n",
      "1.73215401060439e90 with history [-0.604257604698400, '*2', '*pi', 'square', 'square', 'exp']\n",
      "5.49286229448164e-7 with history [-0.604257604698400, '*2', '*pi', 'square', 'negate', 'exp']\n",
      "2.23250967537919e19 with history [-0.604257604698400, '*2', '*pi', 'negate', 'exp', 'exp']\n",
      "1.85951779336721e32 with history [-0.604257604698400, '*2', 'square', 'exp', 'exp', 'exp']\n",
      "5.05791967006907e42 with history [-0.604257604698400, '*2', 'square', '*pi', 'exp', 'exp']\n",
      "2.23250967537919e19 with history [-0.604257604698400, '*2', 'negate', '*pi', 'exp', 'exp']\n",
      "1.77912917170232e-6 with history [-0.604257604698400, '/2', '/2', '/2', '1/', 'exp']\n",
      "1.77912917170232e-6 with history [-0.604257604698400, '/2', '/2', '1/', '*2', 'exp']\n",
      "1.77912917170232e-6 with history [-0.604257604698400, '/2', '/2', '1/', 'exp', 'square']\n",
      "9.29494942040298e-10 with history [-0.604257604698400, '/2', '/2', '1/', '*pi', 'exp']\n",
      "1.07381984530923e19 with history [-0.604257604698400, '/2', '/2', '1/', 'square', 'exp']\n",
      "1.07381984530923e19 with history [-0.604257604698400, '/2', '/2', 'square', '1/', 'exp']\n",
      "2.71204610143006e-7 with history [-0.604257604698400, '/2', '/2', 'square', 'square', 'square']\n",
      "1.77912917170232e-6 with history [-0.604257604698400, '/2', '1/', '*2', '*2', 'exp']\n",
      "1.77912917170232e-6 with history [-0.604257604698400, '/2', '1/', '*2', 'exp', 'square']\n",
      "9.29494942040298e-10 with history [-0.604257604698400, '/2', '1/', '*2', '*pi', 'exp']\n",
      "1.07381984530923e19 with history [-0.604257604698400, '/2', '1/', '*2', 'square', 'exp']\n",
      "1.77912917170232e-6 with history [-0.604257604698400, '/2', '1/', 'exp', 'square', 'square']\n",
      "9.29494942040298e-10 with history [-0.604257604698400, '/2', '1/', '*pi', '*2', 'exp']\n",
      "9.29494942040298e-10 with history [-0.604257604698400, '/2', '1/', '*pi', 'exp', 'square']\n",
      "6.50063245145299e-15 with history [-0.604257604698400, '/2', '1/', '*pi', '*pi', 'exp']\n",
      "9.05609854115701e46 with history [-0.604257604698400, '/2', '1/', '*pi', 'square', 'exp']\n",
      "8.84827454829990e14 with history [-0.604257604698400, '/2', '1/', 'square', '*pi', 'exp']\n",
      "1.32241165752126e52 with history [-0.604257604698400, '/2', '1/', 'square', 'square', 'exp']\n",
      "4.33927376228810e-6 with history [-0.604257604698400, '/2', 'square', '/2', 'square', 'square']\n",
      "8.84827454829990e14 with history [-0.604257604698400, '/2', 'square', '1/', '*pi', 'exp']\n",
      "1.32241165752126e52 with history [-0.604257604698400, '/2', 'square', '1/', 'square', 'exp']\n",
      "1.32241165752126e52 with history [-0.604257604698400, '/2', 'square', 'square', '1/', 'exp']\n",
      "4.82029997672497e-9 with history [-0.604257604698400, '/2', 'square', 'square', 'square', 'square']\n",
      "7.47587759230390e16 with history [-0.604257604698400, 'exp', '/2', '1/', 'exp', 'exp']\n",
      "2.38972669568168e120 with history [-0.604257604698400, 'exp', 'exp', 'exp', 'exp', 'exp']\n",
      "4.92619576286504e98 with history [-0.604257604698400, 'exp', 'exp', '*pi', 'exp', 'exp']\n",
      "4.05246955988727e113 with history [-0.604257604698400, 'exp', '*pi', 'exp', 'exp', 'exp']\n",
      "3.43983941501378e95 with history [-0.604257604698400, 'exp', '*pi', '*pi', 'exp', 'exp']\n",
      "7.47587759230390e16 with history [-0.604257604698400, 'exp', '1/', '*2', 'exp', 'exp']\n",
      "7.47587759230390e16 with history [-0.604257604698400, 'exp', '1/', 'exp', 'square', 'exp']\n",
      "2.53817580648614e-7 with history [-0.604257604698400, '*pi', '*2', '*2', '*2', 'exp']\n",
      "2.53817580648614e-7 with history [-0.604257604698400, '*pi', '*2', '*2', 'exp', 'square']\n",
      "4.36361989501064e-11 with history [-0.604257604698400, '*pi', '*2', '*2', '*pi', 'exp']\n",
      "1.09851288223768e25 with history [-0.604257604698400, '*pi', '*2', '*2', 'square', 'exp']\n",
      "2.23250967537919e19 with history [-0.604257604698400, '*pi', '*2', 'exp', '1/', 'exp']\n",
      "2.53817580648614e-7 with history [-0.604257604698400, '*pi', '*2', 'exp', 'square', 'square']\n",
      "4.36361989501064e-11 with history [-0.604257604698400, '*pi', '*2', '*pi', '*2', 'exp']\n",
      "3.30288506271814e-6 with history [-0.604257604698400, '*pi', '*2', '*pi', 'exp', '/2']\n",
      "1.00000660579194 with history [-0.604257604698400, '*pi', '*2', '*pi', 'exp', 'exp']\n",
      "4.36361989501064e-11 with history [-0.604257604698400, '*pi', '*2', '*pi', 'exp', 'square']\n",
      "-6.60577012543628e-6 with history [-0.604257604698400, '*pi', '*2', '*pi', 'exp', 'negate']\n",
      "5.32487707057574e-17 with history [-0.604257604698400, '*pi', '*2', '*pi', '*pi', 'exp']\n",
      "6.10534470859173e61 with history [-0.604257604698400, '*pi', '*2', '*pi', 'square', 'exp']\n",
      "5.49286229448164e-7 with history [-0.604257604698400, '*pi', '*2', 'square', 'exp', '1/']\n",
      "4.64517818855173e19 with history [-0.604257604698400, '*pi', '*2', 'square', '*pi', 'exp']\n",
      "1.73215401060439e90 with history [-0.604257604698400, '*pi', '*2', 'square', 'square', 'exp']\n",
      "5.49286229448164e-7 with history [-0.604257604698400, '*pi', '*2', 'square', 'negate', 'exp']\n",
      "2.23250967537919e19 with history [-0.604257604698400, '*pi', '*2', 'negate', 'exp', 'exp']\n",
      "2.23250967537919e19 with history [-0.604257604698400, '*pi', 'exp', '1/', 'square', 'exp']\n",
      "2.23250967537917e19 with history [-0.604257604698400, '*pi', 'exp', 'square', '1/', 'exp']\n",
      "2.53817580648614e-7 with history [-0.604257604698400, '*pi', 'exp', 'square', 'square', 'square']\n",
      "4.36361989501064e-11 with history [-0.604257604698400, '*pi', '*pi', '*2', '*2', 'exp']\n",
      "3.30288506271814e-6 with history [-0.604257604698400, '*pi', '*pi', '*2', 'exp', '/2']\n",
      "1.00000660579194 with history [-0.604257604698400, '*pi', '*pi', '*2', 'exp', 'exp']\n",
      "4.36361989501064e-11 with history [-0.604257604698400, '*pi', '*pi', '*2', 'exp', 'square']\n",
      "-6.60577012543628e-6 with history [-0.604257604698400, '*pi', '*pi', '*2', 'exp', 'negate']\n",
      "5.32487707057574e-17 with history [-0.604257604698400, '*pi', '*pi', '*2', '*pi', 'exp']\n",
      "6.10534470859173e61 with history [-0.604257604698400, '*pi', '*pi', '*2', 'square', 'exp']\n",
      "1.65144253135907e-6 with history [-0.604257604698400, '*pi', '*pi', 'exp', '/2', 'square']\n",
      "3.30288506271814e-6 with history [-0.604257604698400, '*pi', '*pi', 'exp', 'square', '/2']\n",
      "1.00000660579194 with history [-0.604257604698400, '*pi', '*pi', 'exp', 'square', 'exp']\n",
      "4.36361989501064e-11 with history [-0.604257604698400, '*pi', '*pi', 'exp', 'square', 'square']\n",
      "-6.60577012543628e-6 with history [-0.604257604698400, '*pi', '*pi', 'exp', 'square', 'negate']\n",
      "6.60577012543628e-6 with history [-0.604257604698400, '*pi', '*pi', 'exp', 'negate', 'square']\n",
      "5.32487707057574e-17 with history [-0.604257604698400, '*pi', '*pi', '*pi', '*2', 'exp']\n",
      "1.45943510586470e-8 with history [-0.604257604698400, '*pi', '*pi', '*pi', 'exp', '*2']\n",
      "3.64858776466174e-9 with history [-0.604257604698400, '*pi', '*pi', '*pi', 'exp', '/2']\n",
      "1.00000000729718 with history [-0.604257604698400, '*pi', '*pi', '*pi', 'exp', 'exp']\n",
      "2.29247530348779e-8 with history [-0.604257604698400, '*pi', '*pi', '*pi', 'exp', '*pi']\n",
      "5.32487707057574e-17 with history [-0.604257604698400, '*pi', '*pi', '*pi', 'exp', 'square']\n",
      "-7.29717552932348e-9 with history [-0.604257604698400, '*pi', '*pi', '*pi', 'exp', 'negate']\n",
      "2.73745428043036e-26 with history [-0.604257604698400, '*pi', '*pi', '*pi', '*pi', 'exp']\n",
      "7.81367052581034e30 with history [-0.604257604698400, '*pi', '*pi', 'square', '*2', 'exp']\n",
      "5.59058870810949e15 with history [-0.604257604698400, '*pi', '*pi', 'square', 'exp', '*2']\n",
      "8.78167620731942e15 with history [-0.604257604698400, '*pi', '*pi', 'square', 'exp', '*pi']\n",
      "3.57744077488454e-16 with history [-0.604257604698400, '*pi', '*pi', 'square', 'exp', '1/']\n",
      "7.81367052581034e30 with history [-0.604257604698400, '*pi', '*pi', 'square', 'exp', 'square']\n",
      "3.36034065962066e48 with history [-0.604257604698400, '*pi', '*pi', 'square', '*pi', 'exp']\n",
      "3.57744077488454e-16 with history [-0.604257604698400, '*pi', '*pi', 'square', 'negate', 'exp']\n",
      "3.62782747804120e22 with history [-0.604257604698400, '*pi', 'square', '*2', 'square', 'exp']\n",
      "8.04325767198420e31 with history [-0.604257604698400, '*pi', 'square', 'exp', '*2', 'exp']\n",
      "1.79368421657595e16 with history [-0.604257604698400, '*pi', 'square', 'exp', 'exp', '*2']\n",
      "2.81751257882748e16 with history [-0.604257604698400, '*pi', 'square', 'exp', 'exp', '*pi']\n",
      "1.11502347041772e-16 with history [-0.604257604698400, '*pi', 'square', 'exp', 'exp', '1/']\n",
      "8.04325767198420e31 with history [-0.604257604698400, '*pi', 'square', 'exp', 'exp', 'square']\n",
      "-8.96842108287975e15 with history [-0.604257604698400, '*pi', 'square', 'exp', 'exp', 'negate']\n",
      "1.30898708591682e50 with history [-0.604257604698400, '*pi', 'square', 'exp', '*pi', 'exp']\n",
      "1.11502347041772e-16 with history [-0.604257604698400, '*pi', 'square', 'exp', 'negate', 'exp']\n",
      "4.60995734082238e55 with history [-0.604257604698400, '*pi', 'square', '*pi', 'square', 'exp']\n",
      "2.29133370495218e-6 with history [-0.604257604698400, '*pi', 'square', 'square', 'exp', '1/']\n",
      "5.22763223047337e17 with history [-0.604257604698400, '*pi', 'square', 'square', '*pi', 'exp']\n",
      "1.74588740431948e73 with history [-0.604257604698400, '*pi', 'square', 'square', 'square', 'exp']\n",
      "2.29133370495218e-6 with history [-0.604257604698400, '*pi', 'square', 'square', 'negate', 'exp']\n",
      "2.23250967537919e19 with history [-0.604257604698400, '*pi', 'negate', '*2', 'exp', 'exp']\n",
      "2.23250967537919e19 with history [-0.604257604698400, '*pi', 'negate', 'exp', 'square', 'exp']\n",
      "8.96842108287975e15 with history [-0.604257604698400, '*pi', 'negate', 'square', 'exp', 'exp']\n",
      "1.77912917170232e-6 with history [-0.604257604698400, '1/', '*2', '*2', '*2', 'exp']\n",
      "1.77912917170232e-6 with history [-0.604257604698400, '1/', '*2', '*2', 'exp', 'square']\n",
      "9.29494942040298e-10 with history [-0.604257604698400, '1/', '*2', '*2', '*pi', 'exp']\n",
      "1.07381984530923e19 with history [-0.604257604698400, '1/', '*2', '*2', 'square', 'exp']\n",
      "1.77912917170232e-6 with history [-0.604257604698400, '1/', '*2', 'exp', 'square', 'square']\n",
      "9.29494942040298e-10 with history [-0.604257604698400, '1/', '*2', '*pi', '*2', 'exp']\n",
      "9.29494942040298e-10 with history [-0.604257604698400, '1/', '*2', '*pi', 'exp', 'square']\n",
      "6.50063245145299e-15 with history [-0.604257604698400, '1/', '*2', '*pi', '*pi', 'exp']\n",
      "9.05609854115701e46 with history [-0.604257604698400, '1/', '*2', '*pi', 'square', 'exp']\n",
      "8.84827454829990e14 with history [-0.604257604698400, '1/', '*2', 'square', '*pi', 'exp']\n",
      "1.32241165752126e52 with history [-0.604257604698400, '1/', '*2', 'square', 'square', 'exp']\n",
      "2.19116849219847e81 with history [-0.604257604698400, '1/', 'exp', '1/', 'exp', 'exp']\n",
      "1.77912917170232e-6 with history [-0.604257604698400, '1/', 'exp', 'square', 'square', 'square']\n",
      "9.29494942040298e-10 with history [-0.604257604698400, '1/', '*pi', '*2', '*2', 'exp']\n",
      "9.29494942040298e-10 with history [-0.604257604698400, '1/', '*pi', '*2', 'exp', 'square']\n",
      "6.50063245145299e-15 with history [-0.604257604698400, '1/', '*pi', '*2', '*pi', 'exp']\n",
      "9.05609854115701e46 with history [-0.604257604698400, '1/', '*pi', '*2', 'square', 'exp']\n",
      "7.62190487198041e-6 with history [-0.604257604698400, '1/', '*pi', 'exp', '/2', 'square']\n",
      "4.51143890921913e78 with history [-0.604257604698400, '1/', '*pi', 'exp', '1/', 'exp']\n",
      "9.29494942040299e-10 with history [-0.604257604698400, '1/', '*pi', 'exp', 'square', 'square']\n",
      "6.50063245145299e-15 with history [-0.604257604698400, '1/', '*pi', '*pi', '*2', 'exp']\n",
      "1.61252999369971e-7 with history [-0.604257604698400, '1/', '*pi', '*pi', 'exp', '*2']\n",
      "4.03132498424928e-8 with history [-0.604257604698400, '1/', '*pi', '*pi', 'exp', '/2']\n",
      "1.00000008062650 with history [-0.604257604698400, '1/', '*pi', '*pi', 'exp', 'exp']\n",
      "2.53295619095011e-7 with history [-0.604257604698400, '1/', '*pi', '*pi', 'exp', '*pi']\n",
      "6.50063245145299e-15 with history [-0.604257604698400, '1/', '*pi', '*pi', 'exp', 'square']\n",
      "-8.06264996849856e-8 with history [-0.604257604698400, '1/', '*pi', '*pi', 'exp', 'negate']\n",
      "5.18851153428784e-23 with history [-0.604257604698400, '1/', '*pi', '*pi', '*pi', 'exp']\n",
      "7.27123587336863e115 with history [-0.604257604698400, '1/', '*pi', '*pi', 'square', 'exp']\n",
      "3.00933523243208e23 with history [-0.604257604698400, '1/', '*pi', 'square', '*2', 'exp']\n",
      "1.82290784990190e-12 with history [-0.604257604698400, '1/', '*pi', 'square', 'exp', '1/']\n",
      "3.00933523243207e23 with history [-0.604257604698400, '1/', '*pi', 'square', 'exp', 'square']\n",
      "7.58394770614758e36 with history [-0.604257604698400, '1/', '*pi', 'square', '*pi', 'exp']\n",
      "1.82290784990190e-12 with history [-0.604257604698400, '1/', '*pi', 'square', 'negate', 'exp']\n",
      "4.51143890921913e78 with history [-0.604257604698400, '1/', '*pi', 'negate', 'exp', 'exp']\n",
      "8.09878036966054e103 with history [-0.604257604698400, '1/', 'square', '*2', 'exp', 'exp']\n",
      "1.91578883268845e-7 with history [-0.604257604698400, '1/', 'square', 'exp', 'exp', '1/']\n",
      "1.27094662370924e21 with history [-0.604257604698400, '1/', 'square', 'exp', '*pi', 'exp']\n",
      "8.09878036966077e103 with history [-0.604257604698400, '1/', 'square', 'exp', 'square', 'exp']\n",
      "1.91578883268845e-7 with history [-0.604257604698400, '1/', 'square', 'exp', 'negate', 'exp']\n",
      "1.41605253797069e32 with history [-0.604257604698400, '1/', 'square', '*pi', 'square', 'exp']\n",
      "2.72092751297323e24 with history [-0.604257604698400, '1/', 'square', 'square', 'square', 'exp']\n",
      "2.19116849219847e81 with history [-0.604257604698400, '1/', 'negate', 'exp', 'exp', 'exp']\n",
      "4.51143890921913e78 with history [-0.604257604698400, '1/', 'negate', '*pi', 'exp', 'exp']\n"
     ]
    },
    {
     "name": "stdout",
     "output_type": "stream",
     "text": [
      "8.09878036966054e103 with history [-0.604257604698400, 'square', '/2', '1/', 'exp', 'exp']\n",
      "1.23399679404159e-6 with history [-0.604257604698400, 'square', '/2', 'square', 'square', 'square']\n",
      "4.51142790806771e29 with history [-0.604257604698400, 'square', 'exp', 'exp', 'exp', 'exp']\n",
      "1.33995845431078e40 with history [-0.604257604698400, 'square', 'exp', '*pi', 'exp', 'exp']\n",
      "8.96842108287975e15 with history [-0.604257604698400, 'square', '*pi', '*pi', 'exp', 'exp']\n",
      "8.09878036966054e103 with history [-0.604257604698400, 'square', '1/', '*2', 'exp', 'exp']\n",
      "1.91578883268845e-7 with history [-0.604257604698400, 'square', '1/', 'exp', 'exp', '1/']\n",
      "1.27094662370924e21 with history [-0.604257604698400, 'square', '1/', 'exp', '*pi', 'exp']\n",
      "8.09878036966077e103 with history [-0.604257604698400, 'square', '1/', 'exp', 'square', 'exp']\n",
      "1.91578883268845e-7 with history [-0.604257604698400, 'square', '1/', 'exp', 'negate', 'exp']\n",
      "1.41605253797069e32 with history [-0.604257604698400, 'square', '1/', '*pi', 'square', 'exp']\n",
      "2.72092751297323e24 with history [-0.604257604698400, 'square', '1/', 'square', 'square', 'exp']\n",
      "2.72092751297323e24 with history [-0.604257604698400, 'square', 'square', '1/', 'square', 'exp']\n",
      "2.72092751297325e24 with history [-0.604257604698400, 'square', 'square', 'square', '1/', 'exp']\n",
      "9.97948186758300e-8 with history [-0.604257604698400, 'square', 'square', 'square', 'square', 'square']\n",
      "2.23250967537919e19 with history [-0.604257604698400, 'negate', '*2', '*pi', 'exp', 'exp']\n",
      "7.47587759230390e16 with history [-0.604257604698400, 'negate', 'exp', '*2', 'exp', 'exp']\n",
      "7.47587759230390e16 with history [-0.604257604698400, 'negate', 'exp', 'exp', 'square', 'exp']\n",
      "2.23250967537919e19 with history [-0.604257604698400, 'negate', '*pi', '*2', 'exp', 'exp']\n",
      "2.23250967537919e19 with history [-0.604257604698400, 'negate', '*pi', 'exp', 'square', 'exp']\n",
      "8.96842108287975e15 with history [-0.604257604698400, 'negate', '*pi', 'square', 'exp', 'exp']\n",
      "2.19116849219847e81 with history [-0.604257604698400, 'negate', '1/', 'exp', 'exp', 'exp']\n",
      "4.51143890921913e78 with history [-0.604257604698400, 'negate', '1/', '*pi', 'exp', 'exp']\n"
     ]
    },
    {
     "data": {
      "text/plain": [
       "[(6.60577012543628e-6, [-0.604257604698400, '*2', '*pi', '*pi', 'exp']),\n",
       " (6.60577012543628e-6, [-0.604257604698400, '*pi', '*2', '*pi', 'exp']),\n",
       " (6.60577012543628e-6, [-0.604257604698400, '*pi', '*pi', '*2', 'exp']),\n",
       " (6.60577012543628e-6, [-0.604257604698400, '*pi', '*pi', 'exp', 'square']),\n",
       " (7.29717552932348e-9, [-0.604257604698400, '*pi', '*pi', '*pi', 'exp']),\n",
       " (8.96842108287975e15, [-0.604257604698400, '*pi', 'square', 'exp', 'exp']),\n",
       " (8.06264996849856e-8, [-0.604257604698400, '1/', '*pi', '*pi', 'exp']),\n",
       " (6.60577012543628e-6, [-0.604257604698400, '*2', '*pi', '*pi', 'exp']),\n",
       " (6.60577012543628e-6, [-0.604257604698400, '*pi', '*2', '*pi', 'exp']),\n",
       " (6.60577012543628e-6, [-0.604257604698400, '*pi', '*pi', '*2', 'exp']),\n",
       " (6.60577012543628e-6, [-0.604257604698400, '*pi', '*pi', 'exp', 'square']),\n",
       " (7.29717552932348e-9, [-0.604257604698400, '*pi', '*pi', '*pi', 'exp']),\n",
       " (8.96842108287975e15, [-0.604257604698400, '*pi', 'square', 'exp', 'exp']),\n",
       " (8.06264996849856e-8, [-0.604257604698400, '1/', '*pi', '*pi', 'exp']),\n",
       " (6.60577012543628e-6, [-0.604257604698400, '*2', '*pi', '*pi', 'exp']),\n",
       " (6.60577012543628e-6, [-0.604257604698400, '*pi', '*2', '*pi', 'exp']),\n",
       " (6.60577012543628e-6, [-0.604257604698400, '*pi', '*pi', '*2', 'exp']),\n",
       " (6.60577012543628e-6, [-0.604257604698400, '*pi', '*pi', 'exp', 'square']),\n",
       " (7.29717552932348e-9, [-0.604257604698400, '*pi', '*pi', '*pi', 'exp']),\n",
       " (8.96842108287975e15, [-0.604257604698400, '*pi', 'square', 'exp', 'exp']),\n",
       " (8.06264996849856e-8, [-0.604257604698400, '1/', '*pi', '*pi', 'exp']),\n",
       " (6.60577012543628e-6, [-0.604257604698400, '*2', '*pi', '*pi', 'exp']),\n",
       " (6.60577012543628e-6, [-0.604257604698400, '*pi', '*2', '*pi', 'exp']),\n",
       " (6.60577012543628e-6, [-0.604257604698400, '*pi', '*pi', '*2', 'exp']),\n",
       " (6.60577012543628e-6, [-0.604257604698400, '*pi', '*pi', 'exp', 'square']),\n",
       " (7.29717552932348e-9, [-0.604257604698400, '*pi', '*pi', '*pi', 'exp']),\n",
       " (8.96842108287975e15, [-0.604257604698400, '*pi', 'square', 'exp', 'exp']),\n",
       " (8.06264996849856e-8, [-0.604257604698400, '1/', '*pi', '*pi', 'exp']),\n",
       " (6.60577012543628e-6, [-0.604257604698400, '*2', '*pi', '*pi', 'exp']),\n",
       " (6.60577012543628e-6, [-0.604257604698400, '*pi', '*2', '*pi', 'exp']),\n",
       " (6.60577012543628e-6, [-0.604257604698400, '*pi', '*pi', '*2', 'exp']),\n",
       " (6.60577012543628e-6, [-0.604257604698400, '*pi', '*pi', 'exp', 'square']),\n",
       " (7.29717552932348e-9, [-0.604257604698400, '*pi', '*pi', '*pi', 'exp']),\n",
       " (8.96842108287975e15, [-0.604257604698400, '*pi', 'square', 'exp', 'exp']),\n",
       " (8.06264996849856e-8, [-0.604257604698400, '1/', '*pi', '*pi', 'exp']),\n",
       " (2.53817580648614e-7, [-0.604257604698400, '*2', '*2', '*2', '*pi', 'exp']),\n",
       " (2.53817580648614e-7, [-0.604257604698400, '*2', '*2', '*pi', '*2', 'exp']),\n",
       " (2.53817580648614e-7,\n",
       "  [-0.604257604698400, '*2', '*2', '*pi', 'exp', 'square']),\n",
       " (4.36361989501064e-11, [-0.604257604698400, '*2', '*2', '*pi', '*pi', 'exp']),\n",
       " (1.09851288223768e25,\n",
       "  [-0.604257604698400, '*2', '*2', '*pi', 'square', 'exp']),\n",
       " (2.53817580648614e-7, [-0.604257604698400, '*2', '*pi', '*2', '*2', 'exp']),\n",
       " (2.53817580648614e-7,\n",
       "  [-0.604257604698400, '*2', '*pi', '*2', 'exp', 'square']),\n",
       " (4.36361989501064e-11, [-0.604257604698400, '*2', '*pi', '*2', '*pi', 'exp']),\n",
       " (1.09851288223768e25,\n",
       "  [-0.604257604698400, '*2', '*pi', '*2', 'square', 'exp']),\n",
       " (2.23250967537919e19, [-0.604257604698400, '*2', '*pi', 'exp', '1/', 'exp']),\n",
       " (2.53817580648614e-7,\n",
       "  [-0.604257604698400, '*2', '*pi', 'exp', 'square', 'square']),\n",
       " (4.36361989501064e-11, [-0.604257604698400, '*2', '*pi', '*pi', '*2', 'exp']),\n",
       " (3.30288506271814e-6, [-0.604257604698400, '*2', '*pi', '*pi', 'exp', '/2']),\n",
       " (1.00000660579194, [-0.604257604698400, '*2', '*pi', '*pi', 'exp', 'exp']),\n",
       " (4.36361989501064e-11,\n",
       "  [-0.604257604698400, '*2', '*pi', '*pi', 'exp', 'square']),\n",
       " (-6.60577012543628e-6,\n",
       "  [-0.604257604698400, '*2', '*pi', '*pi', 'exp', 'negate']),\n",
       " (5.32487707057574e-17,\n",
       "  [-0.604257604698400, '*2', '*pi', '*pi', '*pi', 'exp']),\n",
       " (6.10534470859173e61,\n",
       "  [-0.604257604698400, '*2', '*pi', '*pi', 'square', 'exp']),\n",
       " (5.49286229448164e-7,\n",
       "  [-0.604257604698400, '*2', '*pi', 'square', 'exp', '1/']),\n",
       " (4.64517818855173e19,\n",
       "  [-0.604257604698400, '*2', '*pi', 'square', '*pi', 'exp']),\n",
       " (1.73215401060439e90,\n",
       "  [-0.604257604698400, '*2', '*pi', 'square', 'square', 'exp']),\n",
       " (5.49286229448164e-7,\n",
       "  [-0.604257604698400, '*2', '*pi', 'square', 'negate', 'exp']),\n",
       " (2.23250967537919e19,\n",
       "  [-0.604257604698400, '*2', '*pi', 'negate', 'exp', 'exp']),\n",
       " (1.85951779336721e32,\n",
       "  [-0.604257604698400, '*2', 'square', 'exp', 'exp', 'exp']),\n",
       " (5.05791967006907e42,\n",
       "  [-0.604257604698400, '*2', 'square', '*pi', 'exp', 'exp']),\n",
       " (2.23250967537919e19,\n",
       "  [-0.604257604698400, '*2', 'negate', '*pi', 'exp', 'exp']),\n",
       " (1.77912917170232e-6, [-0.604257604698400, '/2', '/2', '/2', '1/', 'exp']),\n",
       " (1.77912917170232e-6, [-0.604257604698400, '/2', '/2', '1/', '*2', 'exp']),\n",
       " (1.77912917170232e-6,\n",
       "  [-0.604257604698400, '/2', '/2', '1/', 'exp', 'square']),\n",
       " (9.29494942040298e-10, [-0.604257604698400, '/2', '/2', '1/', '*pi', 'exp']),\n",
       " (1.07381984530923e19,\n",
       "  [-0.604257604698400, '/2', '/2', '1/', 'square', 'exp']),\n",
       " (1.07381984530923e19,\n",
       "  [-0.604257604698400, '/2', '/2', 'square', '1/', 'exp']),\n",
       " (2.71204610143006e-7,\n",
       "  [-0.604257604698400, '/2', '/2', 'square', 'square', 'square']),\n",
       " (1.77912917170232e-6, [-0.604257604698400, '/2', '1/', '*2', '*2', 'exp']),\n",
       " (1.77912917170232e-6,\n",
       "  [-0.604257604698400, '/2', '1/', '*2', 'exp', 'square']),\n",
       " (9.29494942040298e-10, [-0.604257604698400, '/2', '1/', '*2', '*pi', 'exp']),\n",
       " (1.07381984530923e19,\n",
       "  [-0.604257604698400, '/2', '1/', '*2', 'square', 'exp']),\n",
       " (1.77912917170232e-6,\n",
       "  [-0.604257604698400, '/2', '1/', 'exp', 'square', 'square']),\n",
       " (9.29494942040298e-10, [-0.604257604698400, '/2', '1/', '*pi', '*2', 'exp']),\n",
       " (9.29494942040298e-10,\n",
       "  [-0.604257604698400, '/2', '1/', '*pi', 'exp', 'square']),\n",
       " (6.50063245145299e-15, [-0.604257604698400, '/2', '1/', '*pi', '*pi', 'exp']),\n",
       " (9.05609854115701e46,\n",
       "  [-0.604257604698400, '/2', '1/', '*pi', 'square', 'exp']),\n",
       " (8.84827454829990e14,\n",
       "  [-0.604257604698400, '/2', '1/', 'square', '*pi', 'exp']),\n",
       " (1.32241165752126e52,\n",
       "  [-0.604257604698400, '/2', '1/', 'square', 'square', 'exp']),\n",
       " (4.33927376228810e-6,\n",
       "  [-0.604257604698400, '/2', 'square', '/2', 'square', 'square']),\n",
       " (8.84827454829990e14,\n",
       "  [-0.604257604698400, '/2', 'square', '1/', '*pi', 'exp']),\n",
       " (1.32241165752126e52,\n",
       "  [-0.604257604698400, '/2', 'square', '1/', 'square', 'exp']),\n",
       " (1.32241165752126e52,\n",
       "  [-0.604257604698400, '/2', 'square', 'square', '1/', 'exp']),\n",
       " (4.82029997672497e-9,\n",
       "  [-0.604257604698400, '/2', 'square', 'square', 'square', 'square']),\n",
       " (7.47587759230390e16, [-0.604257604698400, 'exp', '/2', '1/', 'exp', 'exp']),\n",
       " (2.38972669568168e120,\n",
       "  [-0.604257604698400, 'exp', 'exp', 'exp', 'exp', 'exp']),\n",
       " (4.92619576286504e98,\n",
       "  [-0.604257604698400, 'exp', 'exp', '*pi', 'exp', 'exp']),\n",
       " (4.05246955988727e113,\n",
       "  [-0.604257604698400, 'exp', '*pi', 'exp', 'exp', 'exp']),\n",
       " (3.43983941501378e95,\n",
       "  [-0.604257604698400, 'exp', '*pi', '*pi', 'exp', 'exp']),\n",
       " (7.47587759230390e16, [-0.604257604698400, 'exp', '1/', '*2', 'exp', 'exp']),\n",
       " (7.47587759230390e16,\n",
       "  [-0.604257604698400, 'exp', '1/', 'exp', 'square', 'exp']),\n",
       " (2.53817580648614e-7, [-0.604257604698400, '*pi', '*2', '*2', '*2', 'exp']),\n",
       " (2.53817580648614e-7,\n",
       "  [-0.604257604698400, '*pi', '*2', '*2', 'exp', 'square']),\n",
       " (4.36361989501064e-11, [-0.604257604698400, '*pi', '*2', '*2', '*pi', 'exp']),\n",
       " (1.09851288223768e25,\n",
       "  [-0.604257604698400, '*pi', '*2', '*2', 'square', 'exp']),\n",
       " (2.23250967537919e19, [-0.604257604698400, '*pi', '*2', 'exp', '1/', 'exp']),\n",
       " (2.53817580648614e-7,\n",
       "  [-0.604257604698400, '*pi', '*2', 'exp', 'square', 'square']),\n",
       " (4.36361989501064e-11, [-0.604257604698400, '*pi', '*2', '*pi', '*2', 'exp']),\n",
       " (3.30288506271814e-6, [-0.604257604698400, '*pi', '*2', '*pi', 'exp', '/2']),\n",
       " (1.00000660579194, [-0.604257604698400, '*pi', '*2', '*pi', 'exp', 'exp']),\n",
       " (4.36361989501064e-11,\n",
       "  [-0.604257604698400, '*pi', '*2', '*pi', 'exp', 'square']),\n",
       " (-6.60577012543628e-6,\n",
       "  [-0.604257604698400, '*pi', '*2', '*pi', 'exp', 'negate']),\n",
       " (5.32487707057574e-17,\n",
       "  [-0.604257604698400, '*pi', '*2', '*pi', '*pi', 'exp']),\n",
       " (6.10534470859173e61,\n",
       "  [-0.604257604698400, '*pi', '*2', '*pi', 'square', 'exp']),\n",
       " (5.49286229448164e-7,\n",
       "  [-0.604257604698400, '*pi', '*2', 'square', 'exp', '1/']),\n",
       " (4.64517818855173e19,\n",
       "  [-0.604257604698400, '*pi', '*2', 'square', '*pi', 'exp']),\n",
       " (1.73215401060439e90,\n",
       "  [-0.604257604698400, '*pi', '*2', 'square', 'square', 'exp']),\n",
       " (5.49286229448164e-7,\n",
       "  [-0.604257604698400, '*pi', '*2', 'square', 'negate', 'exp']),\n",
       " (2.23250967537919e19,\n",
       "  [-0.604257604698400, '*pi', '*2', 'negate', 'exp', 'exp']),\n",
       " (2.23250967537919e19,\n",
       "  [-0.604257604698400, '*pi', 'exp', '1/', 'square', 'exp']),\n",
       " (2.23250967537917e19,\n",
       "  [-0.604257604698400, '*pi', 'exp', 'square', '1/', 'exp']),\n",
       " (2.53817580648614e-7,\n",
       "  [-0.604257604698400, '*pi', 'exp', 'square', 'square', 'square']),\n",
       " (4.36361989501064e-11, [-0.604257604698400, '*pi', '*pi', '*2', '*2', 'exp']),\n",
       " (3.30288506271814e-6, [-0.604257604698400, '*pi', '*pi', '*2', 'exp', '/2']),\n",
       " (1.00000660579194, [-0.604257604698400, '*pi', '*pi', '*2', 'exp', 'exp']),\n",
       " (4.36361989501064e-11,\n",
       "  [-0.604257604698400, '*pi', '*pi', '*2', 'exp', 'square']),\n",
       " (-6.60577012543628e-6,\n",
       "  [-0.604257604698400, '*pi', '*pi', '*2', 'exp', 'negate']),\n",
       " (5.32487707057574e-17,\n",
       "  [-0.604257604698400, '*pi', '*pi', '*2', '*pi', 'exp']),\n",
       " (6.10534470859173e61,\n",
       "  [-0.604257604698400, '*pi', '*pi', '*2', 'square', 'exp']),\n",
       " (1.65144253135907e-6,\n",
       "  [-0.604257604698400, '*pi', '*pi', 'exp', '/2', 'square']),\n",
       " (3.30288506271814e-6,\n",
       "  [-0.604257604698400, '*pi', '*pi', 'exp', 'square', '/2']),\n",
       " (1.00000660579194,\n",
       "  [-0.604257604698400, '*pi', '*pi', 'exp', 'square', 'exp']),\n",
       " (4.36361989501064e-11,\n",
       "  [-0.604257604698400, '*pi', '*pi', 'exp', 'square', 'square']),\n",
       " (-6.60577012543628e-6,\n",
       "  [-0.604257604698400, '*pi', '*pi', 'exp', 'square', 'negate']),\n",
       " (6.60577012543628e-6,\n",
       "  [-0.604257604698400, '*pi', '*pi', 'exp', 'negate', 'square']),\n",
       " (5.32487707057574e-17,\n",
       "  [-0.604257604698400, '*pi', '*pi', '*pi', '*2', 'exp']),\n",
       " (1.45943510586470e-8, [-0.604257604698400, '*pi', '*pi', '*pi', 'exp', '*2']),\n",
       " (3.64858776466174e-9, [-0.604257604698400, '*pi', '*pi', '*pi', 'exp', '/2']),\n",
       " (1.00000000729718, [-0.604257604698400, '*pi', '*pi', '*pi', 'exp', 'exp']),\n",
       " (2.29247530348779e-8,\n",
       "  [-0.604257604698400, '*pi', '*pi', '*pi', 'exp', '*pi']),\n",
       " (5.32487707057574e-17,\n",
       "  [-0.604257604698400, '*pi', '*pi', '*pi', 'exp', 'square']),\n",
       " (-7.29717552932348e-9,\n",
       "  [-0.604257604698400, '*pi', '*pi', '*pi', 'exp', 'negate']),\n",
       " (2.73745428043036e-26,\n",
       "  [-0.604257604698400, '*pi', '*pi', '*pi', '*pi', 'exp']),\n",
       " (7.81367052581034e30,\n",
       "  [-0.604257604698400, '*pi', '*pi', 'square', '*2', 'exp']),\n",
       " (5.59058870810949e15,\n",
       "  [-0.604257604698400, '*pi', '*pi', 'square', 'exp', '*2']),\n",
       " (8.78167620731942e15,\n",
       "  [-0.604257604698400, '*pi', '*pi', 'square', 'exp', '*pi']),\n",
       " (3.57744077488454e-16,\n",
       "  [-0.604257604698400, '*pi', '*pi', 'square', 'exp', '1/']),\n",
       " (7.81367052581034e30,\n",
       "  [-0.604257604698400, '*pi', '*pi', 'square', 'exp', 'square']),\n",
       " (3.36034065962066e48,\n",
       "  [-0.604257604698400, '*pi', '*pi', 'square', '*pi', 'exp']),\n",
       " (3.57744077488454e-16,\n",
       "  [-0.604257604698400, '*pi', '*pi', 'square', 'negate', 'exp']),\n",
       " (3.62782747804120e22,\n",
       "  [-0.604257604698400, '*pi', 'square', '*2', 'square', 'exp']),\n",
       " (8.04325767198420e31,\n",
       "  [-0.604257604698400, '*pi', 'square', 'exp', '*2', 'exp']),\n",
       " (1.79368421657595e16,\n",
       "  [-0.604257604698400, '*pi', 'square', 'exp', 'exp', '*2']),\n",
       " (2.81751257882748e16,\n",
       "  [-0.604257604698400, '*pi', 'square', 'exp', 'exp', '*pi']),\n",
       " (1.11502347041772e-16,\n",
       "  [-0.604257604698400, '*pi', 'square', 'exp', 'exp', '1/']),\n",
       " (8.04325767198420e31,\n",
       "  [-0.604257604698400, '*pi', 'square', 'exp', 'exp', 'square']),\n",
       " (-8.96842108287975e15,\n",
       "  [-0.604257604698400, '*pi', 'square', 'exp', 'exp', 'negate']),\n",
       " (1.30898708591682e50,\n",
       "  [-0.604257604698400, '*pi', 'square', 'exp', '*pi', 'exp']),\n",
       " (1.11502347041772e-16,\n",
       "  [-0.604257604698400, '*pi', 'square', 'exp', 'negate', 'exp']),\n",
       " (4.60995734082238e55,\n",
       "  [-0.604257604698400, '*pi', 'square', '*pi', 'square', 'exp']),\n",
       " (2.29133370495218e-6,\n",
       "  [-0.604257604698400, '*pi', 'square', 'square', 'exp', '1/']),\n",
       " (5.22763223047337e17,\n",
       "  [-0.604257604698400, '*pi', 'square', 'square', '*pi', 'exp']),\n",
       " (1.74588740431948e73,\n",
       "  [-0.604257604698400, '*pi', 'square', 'square', 'square', 'exp']),\n",
       " (2.29133370495218e-6,\n",
       "  [-0.604257604698400, '*pi', 'square', 'square', 'negate', 'exp']),\n",
       " (2.23250967537919e19,\n",
       "  [-0.604257604698400, '*pi', 'negate', '*2', 'exp', 'exp']),\n",
       " (2.23250967537919e19,\n",
       "  [-0.604257604698400, '*pi', 'negate', 'exp', 'square', 'exp']),\n",
       " (8.96842108287975e15,\n",
       "  [-0.604257604698400, '*pi', 'negate', 'square', 'exp', 'exp']),\n",
       " (1.77912917170232e-6, [-0.604257604698400, '1/', '*2', '*2', '*2', 'exp']),\n",
       " (1.77912917170232e-6,\n",
       "  [-0.604257604698400, '1/', '*2', '*2', 'exp', 'square']),\n",
       " (9.29494942040298e-10, [-0.604257604698400, '1/', '*2', '*2', '*pi', 'exp']),\n",
       " (1.07381984530923e19,\n",
       "  [-0.604257604698400, '1/', '*2', '*2', 'square', 'exp']),\n",
       " (1.77912917170232e-6,\n",
       "  [-0.604257604698400, '1/', '*2', 'exp', 'square', 'square']),\n",
       " (9.29494942040298e-10, [-0.604257604698400, '1/', '*2', '*pi', '*2', 'exp']),\n",
       " (9.29494942040298e-10,\n",
       "  [-0.604257604698400, '1/', '*2', '*pi', 'exp', 'square']),\n",
       " (6.50063245145299e-15, [-0.604257604698400, '1/', '*2', '*pi', '*pi', 'exp']),\n",
       " (9.05609854115701e46,\n",
       "  [-0.604257604698400, '1/', '*2', '*pi', 'square', 'exp']),\n",
       " (8.84827454829990e14,\n",
       "  [-0.604257604698400, '1/', '*2', 'square', '*pi', 'exp']),\n",
       " (1.32241165752126e52,\n",
       "  [-0.604257604698400, '1/', '*2', 'square', 'square', 'exp']),\n",
       " (2.19116849219847e81, [-0.604257604698400, '1/', 'exp', '1/', 'exp', 'exp']),\n",
       " (1.77912917170232e-6,\n",
       "  [-0.604257604698400, '1/', 'exp', 'square', 'square', 'square']),\n",
       " (9.29494942040298e-10, [-0.604257604698400, '1/', '*pi', '*2', '*2', 'exp']),\n",
       " (9.29494942040298e-10,\n",
       "  [-0.604257604698400, '1/', '*pi', '*2', 'exp', 'square']),\n",
       " (6.50063245145299e-15, [-0.604257604698400, '1/', '*pi', '*2', '*pi', 'exp']),\n",
       " (9.05609854115701e46,\n",
       "  [-0.604257604698400, '1/', '*pi', '*2', 'square', 'exp']),\n",
       " (7.62190487198041e-6,\n",
       "  [-0.604257604698400, '1/', '*pi', 'exp', '/2', 'square']),\n",
       " (4.51143890921913e78, [-0.604257604698400, '1/', '*pi', 'exp', '1/', 'exp']),\n",
       " (9.29494942040299e-10,\n",
       "  [-0.604257604698400, '1/', '*pi', 'exp', 'square', 'square']),\n",
       " (6.50063245145299e-15, [-0.604257604698400, '1/', '*pi', '*pi', '*2', 'exp']),\n",
       " (1.61252999369971e-7, [-0.604257604698400, '1/', '*pi', '*pi', 'exp', '*2']),\n",
       " (4.03132498424928e-8, [-0.604257604698400, '1/', '*pi', '*pi', 'exp', '/2']),\n",
       " (1.00000008062650, [-0.604257604698400, '1/', '*pi', '*pi', 'exp', 'exp']),\n",
       " (2.53295619095011e-7, [-0.604257604698400, '1/', '*pi', '*pi', 'exp', '*pi']),\n",
       " (6.50063245145299e-15,\n",
       "  [-0.604257604698400, '1/', '*pi', '*pi', 'exp', 'square']),\n",
       " (-8.06264996849856e-8,\n",
       "  [-0.604257604698400, '1/', '*pi', '*pi', 'exp', 'negate']),\n",
       " (5.18851153428784e-23,\n",
       "  [-0.604257604698400, '1/', '*pi', '*pi', '*pi', 'exp']),\n",
       " (7.27123587336863e115,\n",
       "  [-0.604257604698400, '1/', '*pi', '*pi', 'square', 'exp']),\n",
       " (3.00933523243208e23,\n",
       "  [-0.604257604698400, '1/', '*pi', 'square', '*2', 'exp']),\n",
       " (1.82290784990190e-12,\n",
       "  [-0.604257604698400, '1/', '*pi', 'square', 'exp', '1/']),\n",
       " (3.00933523243207e23,\n",
       "  [-0.604257604698400, '1/', '*pi', 'square', 'exp', 'square']),\n",
       " (7.58394770614758e36,\n",
       "  [-0.604257604698400, '1/', '*pi', 'square', '*pi', 'exp']),\n",
       " (1.82290784990190e-12,\n",
       "  [-0.604257604698400, '1/', '*pi', 'square', 'negate', 'exp']),\n",
       " (4.51143890921913e78,\n",
       "  [-0.604257604698400, '1/', '*pi', 'negate', 'exp', 'exp']),\n",
       " (8.09878036966054e103,\n",
       "  [-0.604257604698400, '1/', 'square', '*2', 'exp', 'exp']),\n",
       " (1.91578883268845e-7,\n",
       "  [-0.604257604698400, '1/', 'square', 'exp', 'exp', '1/']),\n",
       " (1.27094662370924e21,\n",
       "  [-0.604257604698400, '1/', 'square', 'exp', '*pi', 'exp']),\n",
       " (8.09878036966077e103,\n",
       "  [-0.604257604698400, '1/', 'square', 'exp', 'square', 'exp']),\n",
       " (1.91578883268845e-7,\n",
       "  [-0.604257604698400, '1/', 'square', 'exp', 'negate', 'exp']),\n",
       " (1.41605253797069e32,\n",
       "  [-0.604257604698400, '1/', 'square', '*pi', 'square', 'exp']),\n",
       " (2.72092751297323e24,\n",
       "  [-0.604257604698400, '1/', 'square', 'square', 'square', 'exp']),\n",
       " (2.19116849219847e81,\n",
       "  [-0.604257604698400, '1/', 'negate', 'exp', 'exp', 'exp']),\n",
       " (4.51143890921913e78,\n",
       "  [-0.604257604698400, '1/', 'negate', '*pi', 'exp', 'exp']),\n",
       " (8.09878036966054e103,\n",
       "  [-0.604257604698400, 'square', '/2', '1/', 'exp', 'exp']),\n",
       " (1.23399679404159e-6,\n",
       "  [-0.604257604698400, 'square', '/2', 'square', 'square', 'square']),\n",
       " (4.51142790806771e29,\n",
       "  [-0.604257604698400, 'square', 'exp', 'exp', 'exp', 'exp']),\n",
       " (1.33995845431078e40,\n",
       "  [-0.604257604698400, 'square', 'exp', '*pi', 'exp', 'exp']),\n",
       " (8.96842108287975e15,\n",
       "  [-0.604257604698400, 'square', '*pi', '*pi', 'exp', 'exp']),\n",
       " (8.09878036966054e103,\n",
       "  [-0.604257604698400, 'square', '1/', '*2', 'exp', 'exp']),\n",
       " (1.91578883268845e-7,\n",
       "  [-0.604257604698400, 'square', '1/', 'exp', 'exp', '1/']),\n",
       " (1.27094662370924e21,\n",
       "  [-0.604257604698400, 'square', '1/', 'exp', '*pi', 'exp']),\n",
       " (8.09878036966077e103,\n",
       "  [-0.604257604698400, 'square', '1/', 'exp', 'square', 'exp']),\n",
       " (1.91578883268845e-7,\n",
       "  [-0.604257604698400, 'square', '1/', 'exp', 'negate', 'exp']),\n",
       " (1.41605253797069e32,\n",
       "  [-0.604257604698400, 'square', '1/', '*pi', 'square', 'exp']),\n",
       " (2.72092751297323e24,\n",
       "  [-0.604257604698400, 'square', '1/', 'square', 'square', 'exp']),\n",
       " (2.72092751297323e24,\n",
       "  [-0.604257604698400, 'square', 'square', '1/', 'square', 'exp']),\n",
       " (2.72092751297325e24,\n",
       "  [-0.604257604698400, 'square', 'square', 'square', '1/', 'exp']),\n",
       " (9.97948186758300e-8,\n",
       "  [-0.604257604698400, 'square', 'square', 'square', 'square', 'square']),\n",
       " (2.23250967537919e19,\n",
       "  [-0.604257604698400, 'negate', '*2', '*pi', 'exp', 'exp']),\n",
       " (7.47587759230390e16,\n",
       "  [-0.604257604698400, 'negate', 'exp', '*2', 'exp', 'exp']),\n",
       " (7.47587759230390e16,\n",
       "  [-0.604257604698400, 'negate', 'exp', 'exp', 'square', 'exp']),\n",
       " (2.23250967537919e19,\n",
       "  [-0.604257604698400, 'negate', '*pi', '*2', 'exp', 'exp']),\n",
       " (2.23250967537919e19,\n",
       "  [-0.604257604698400, 'negate', '*pi', 'exp', 'square', 'exp']),\n",
       " (8.96842108287975e15,\n",
       "  [-0.604257604698400, 'negate', '*pi', 'square', 'exp', 'exp']),\n",
       " (2.19116849219847e81,\n",
       "  [-0.604257604698400, 'negate', '1/', 'exp', 'exp', 'exp']),\n",
       " (4.51143890921913e78,\n",
       "  [-0.604257604698400, 'negate', '1/', '*pi', 'exp', 'exp'])]"
      ]
     },
     "execution_count": 17,
     "metadata": {},
     "output_type": "execute_result"
    }
   ],
   "source": [
    "searchForInteger_print(-0.6042576046984, depth = 5)"
   ]
  },
  {
   "cell_type": "code",
   "execution_count": null,
   "metadata": {},
   "outputs": [],
   "source": []
  },
  {
   "cell_type": "code",
   "execution_count": null,
   "metadata": {},
   "outputs": [],
   "source": []
  }
 ],
 "metadata": {
  "kernelspec": {
   "display_name": "SageMath 9.0",
   "language": "sage",
   "name": "sagemath"
  },
  "language_info": {
   "codemirror_mode": {
    "name": "ipython",
    "version": 3
   },
   "file_extension": ".py",
   "mimetype": "text/x-python",
   "name": "python",
   "nbconvert_exporter": "python",
   "pygments_lexer": "ipython3",
   "version": "3.7.3"
  }
 },
 "nbformat": 4,
 "nbformat_minor": 2
}

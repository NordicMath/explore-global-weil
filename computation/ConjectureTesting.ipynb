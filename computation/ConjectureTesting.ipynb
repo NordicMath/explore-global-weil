{
 "cells": [
  {
   "cell_type": "code",
   "execution_count": null,
   "metadata": {
    "collapsed": true
   },
   "outputs": [],
   "source": [
    "%runfile zeta-types-smc/zetatypes/util/lazylist.py\n",
    "%runfile zeta-types-smc/zetatypes/ts/monoid.py\n",
    "%runfile zeta-types-smc/zetatypes/ts/ring.py\n",
    "%runfile zeta-types-smc/zetatypes/util/berlekamp.py\n",
    "%runfile zeta-types-smc/zetatypes/ts/complex.py"
   ]
  },
  {
   "cell_type": "code",
   "execution_count": null,
   "metadata": {
    "collapsed": true
   },
   "outputs": [],
   "source": [
    "%runfile zeta-types-smc/zetatypes/mf/mf.py\n",
    "%runfile zeta-types-smc/zetatypes/mf/library.py"
   ]
  },
  {
   "cell_type": "code",
   "execution_count": null,
   "metadata": {
    "collapsed": true
   },
   "outputs": [],
   "source": [
    "defineTS()"
   ]
  },
  {
   "cell_type": "code",
   "execution_count": null,
   "metadata": {
    "collapsed": true
   },
   "outputs": [],
   "source": [
    "TSC = ComplexTannakianSymbols()"
   ]
  },
  {
   "cell_type": "code",
   "execution_count": null,
   "metadata": {
    "collapsed": true
   },
   "outputs": [],
   "source": []
  },
  {
   "cell_type": "code",
   "execution_count": null,
   "metadata": {
    "collapsed": true
   },
   "outputs": [],
   "source": []
  },
  {
   "cell_type": "code",
   "execution_count": null,
   "metadata": {
    "collapsed": true
   },
   "outputs": [],
   "source": []
  },
  {
   "cell_type": "code",
   "execution_count": null,
   "metadata": {
    "collapsed": true
   },
   "outputs": [],
   "source": []
  },
  {
   "cell_type": "code",
   "execution_count": null,
   "metadata": {
    "collapsed": true
   },
   "outputs": [],
   "source": [
    "def approx_sum(terms, delta = 0.0001, taillen = 10):\n",
    "    \n",
    "    #G = Graphics()\n",
    "    \n",
    "    tails = [0] * taillen\n",
    "    \n",
    "    i = 0\n",
    "    \n",
    "    if hasattr(terms, 'offset'):\n",
    "        i = terms.offset\n",
    "    \n",
    "    while i <= taillen or sum(abs(tails[0] - x) for x in tails) > delta: #abs(tails[0] - tails[-1]) + abs(tails[0] - tails[1]) > delta:\n",
    "        tails = [tails[0] + terms[i]] + tails[:-1]\n",
    "                \n",
    "        #print(abs(tails[0] - tails[-1]))\n",
    "        #G += point((real(tails[0]), imag(tails[0])))\n",
    "        i += 1\n",
    "        #if i % 1000 == 0:\n",
    "            #print(\"Progress report, delta is now:\")\n",
    "            #print(sum(abs(tails[0] - x) for x in tails))\n",
    "            #print(abs(tails[0] - tails[-1]))\n",
    "    \n",
    "    #print \"Amount of terms: \", i\n",
    "    #print tails[0]\n",
    "    #G.show()\n",
    "    return tails[0]"
   ]
  },
  {
   "cell_type": "code",
   "execution_count": null,
   "metadata": {
    "collapsed": true
   },
   "outputs": [],
   "source": []
  },
  {
   "cell_type": "code",
   "execution_count": null,
   "metadata": {
    "collapsed": true
   },
   "outputs": [],
   "source": [
    "def m_approx(f, z):\n",
    "    return approx_sum(LazyList(lambda n: f(n) * z^(n - 1), cache = False, offset = 1))\n",
    "\n",
    "def m_der_approx(f, z):\n",
    "    return approx_sum(LazyList(lambda n: f(n) * (n - 1) * z^(n - 2), cache = False, offset = 2))\n",
    "\n",
    "def m_der_n_approx(f, i, z):\n",
    "    def prod(n, j):\n",
    "        return n * prod(n - 1, j - 1) if j > 0 else 1\n",
    "\n",
    "    return approx_sum(LazyList(lambda n: f(n) * prod(n - 1, i) * z^(n - 1 - i), cache = False, offset = i + 1))\n",
    "\n",
    "\n",
    "#def smart_m_approx(f, z):\n",
    "    #def rie(z):\n",
    "        #return 1/(1 - z)\n",
    "    #C = LazyList(lambda n: sum(moebius(n/d)*f(d) for d in divisors(n)), offset = 1)\n",
    "    #print(C)\n",
    "    #return approx_sum(LazyList(lambda i: - C[i + 1] * z^(i + 1) * m_approx(lambda n: 1, 1/(z^(i + 1)))))\n",
    "    #return approx_sum(LazyList(lambda n: C[n] * rie(z^n), offset = 1))\n"
   ]
  },
  {
   "cell_type": "code",
   "execution_count": null,
   "metadata": {
    "collapsed": true
   },
   "outputs": [],
   "source": []
  },
  {
   "cell_type": "code",
   "execution_count": null,
   "metadata": {
    "collapsed": true
   },
   "outputs": [],
   "source": [
    "def amt_terms(r, bound = 1, delta = 0.001):\n",
    "    if bound == 1:\n",
    "        return ceil((log(delta) + log(1 - r))/log(r)) + 1\n",
    "    raise ValueError(\"No known bound for error when a_n is bounded by \" + bound)\n",
    "    \n",
    "def bounded_m_approx(f, z, bound = 1, delta = 0.001):\n",
    "    r = abs(z)\n",
    "    if r >= 1:\n",
    "        raise ValueError(\"This sequence diverges!\")\n",
    "    else:\n",
    "        N = amt_terms(r, bound = bound, delta = delta)\n",
    "        return sum(f(n) * z^(n - 1) for n in range(1, N + 1))"
   ]
  },
  {
   "cell_type": "code",
   "execution_count": null,
   "metadata": {
    "collapsed": false
   },
   "outputs": [],
   "source": [
    "bounded_m_approx(moebius, 0.999)"
   ]
  },
  {
   "cell_type": "code",
   "execution_count": null,
   "metadata": {
    "collapsed": false
   },
   "outputs": [],
   "source": [
    "amt_terms(0.95)"
   ]
  },
  {
   "cell_type": "code",
   "execution_count": null,
   "metadata": {
    "collapsed": false
   },
   "outputs": [],
   "source": []
  },
  {
   "cell_type": "code",
   "execution_count": null,
   "metadata": {
    "collapsed": false
   },
   "outputs": [],
   "source": []
  },
  {
   "cell_type": "code",
   "execution_count": null,
   "metadata": {
    "collapsed": true
   },
   "outputs": [],
   "source": []
  },
  {
   "cell_type": "code",
   "execution_count": null,
   "metadata": {
    "collapsed": true
   },
   "outputs": [],
   "source": [
    "mob = LazyList(lambda n: moebius(n), offset = 1)\n",
    "# TODO: give lazylist call function\n",
    "\n",
    "m_mu = lambda z: bounded_m_approx(lambda n: mob[n], z)\n",
    "#m_mu_der = lambda z: m_der_approx(moebius, z)\n",
    "#m_mu_der_n = lambda n: lambda z: m_der_n_approx(moebius, n, z)"
   ]
  },
  {
   "cell_type": "code",
   "execution_count": null,
   "metadata": {
    "collapsed": true
   },
   "outputs": [],
   "source": []
  },
  {
   "cell_type": "code",
   "execution_count": null,
   "metadata": {
    "collapsed": true
   },
   "outputs": [],
   "source": []
  },
  {
   "cell_type": "code",
   "execution_count": null,
   "metadata": {
    "collapsed": true
   },
   "outputs": [],
   "source": [
    "def make_r_plot(r):\n",
    "    #print \"Current r: \" + str(r)\n",
    "    return plot(lambda x: arg(m_mu(CC(r * e^(I*x)))), (0, 2*pi), plot_points = 100)"
   ]
  },
  {
   "cell_type": "code",
   "execution_count": null,
   "metadata": {
    "collapsed": true
   },
   "outputs": [],
   "source": []
  },
  {
   "cell_type": "code",
   "execution_count": null,
   "metadata": {
    "collapsed": false
   },
   "outputs": [],
   "source": [
    "import time\n",
    "\n",
    "start = time.time()\n",
    "make_r_plot(.5).show()\n",
    "end = time.time()\n",
    "print(end - start)"
   ]
  },
  {
   "cell_type": "code",
   "execution_count": null,
   "metadata": {
    "collapsed": true
   },
   "outputs": [],
   "source": []
  },
  {
   "cell_type": "code",
   "execution_count": null,
   "metadata": {
    "collapsed": true
   },
   "outputs": [],
   "source": [
    "#plot(lambda x: m_mu(x) - (1/(x^2 - 1) + 2 - x) if abs(x) <= .9 else None, (-1, 1))"
   ]
  },
  {
   "cell_type": "code",
   "execution_count": null,
   "metadata": {
    "collapsed": true
   },
   "outputs": [],
   "source": []
  },
  {
   "cell_type": "code",
   "execution_count": null,
   "metadata": {
    "collapsed": true
   },
   "outputs": [],
   "source": [
    "#plot(lambda x: m_mu(x) if abs(x) <= .99 else None, (-1, 1))"
   ]
  },
  {
   "cell_type": "code",
   "execution_count": null,
   "metadata": {
    "collapsed": true
   },
   "outputs": [],
   "source": [
    "#plot(lambda x: m_mu_der(x) if abs(x) <= .9 else None, (-1, 1))"
   ]
  },
  {
   "cell_type": "code",
   "execution_count": null,
   "metadata": {
    "collapsed": true
   },
   "outputs": [],
   "source": []
  },
  {
   "cell_type": "code",
   "execution_count": null,
   "metadata": {
    "collapsed": false
   },
   "outputs": [],
   "source": [
    "plot(lambda x: (1 - x^2) * m_mu(x) if abs(x) <= .99 else None, (-1, 1))"
   ]
  },
  {
   "cell_type": "code",
   "execution_count": null,
   "metadata": {
    "collapsed": false
   },
   "outputs": [],
   "source": [
    "plot(lambda x: (-2*x)*m_mu(x) + (1 - x^2)*m_mu_der(x) if abs(x) <= .99 else None, (-1, 1))"
   ]
  },
  {
   "cell_type": "code",
   "execution_count": null,
   "metadata": {
    "collapsed": true
   },
   "outputs": [],
   "source": []
  },
  {
   "cell_type": "code",
   "execution_count": null,
   "metadata": {
    "collapsed": true
   },
   "outputs": [],
   "source": []
  },
  {
   "cell_type": "code",
   "execution_count": null,
   "metadata": {
    "collapsed": false
   },
   "outputs": [],
   "source": [
    "#complex_plot(lambda z: m_mu(z) if abs(z) <= .99 else NaN, (-1, 1), (-1, 1))"
   ]
  },
  {
   "cell_type": "code",
   "execution_count": null,
   "metadata": {
    "collapsed": false
   },
   "outputs": [],
   "source": [
    "plot3d(lambda x, y: abs(m_approx(lambda n: mob[n], CC(x + I*y))) if x*x + y*y <= (.9)^2 else -1, (-1, 1), (-1, 1))"
   ]
  },
  {
   "cell_type": "code",
   "execution_count": null,
   "metadata": {
    "collapsed": true
   },
   "outputs": [],
   "source": []
  },
  {
   "cell_type": "code",
   "execution_count": null,
   "metadata": {
    "collapsed": false
   },
   "outputs": [],
   "source": [
    "polar_plot(lambda x: abs(m_mu(CC(.9 * e^(I*x)))), (0, 2*pi))"
   ]
  },
  {
   "cell_type": "code",
   "execution_count": null,
   "metadata": {
    "collapsed": false
   },
   "outputs": [],
   "source": [
    "p = make_plot(0.97)"
   ]
  },
  {
   "cell_type": "code",
   "execution_count": null,
   "metadata": {
    "collapsed": true
   },
   "outputs": [],
   "source": []
  },
  {
   "cell_type": "code",
   "execution_count": null,
   "metadata": {
    "collapsed": false
   },
   "outputs": [],
   "source": [
    "p + sum(line([((2 * pi * i) / pr, 0), ((2 * pi * i) / pr, 5)], color=\"red\") for pr in [11] for i in range(1, pr) if pr in Primes())"
   ]
  },
  {
   "cell_type": "code",
   "execution_count": null,
   "metadata": {
    "collapsed": false
   },
   "outputs": [],
   "source": []
  },
  {
   "cell_type": "code",
   "execution_count": null,
   "metadata": {
    "collapsed": true
   },
   "outputs": [],
   "source": []
  },
  {
   "cell_type": "code",
   "execution_count": null,
   "metadata": {
    "collapsed": true
   },
   "outputs": [],
   "source": []
  },
  {
   "cell_type": "code",
   "execution_count": null,
   "metadata": {
    "collapsed": false
   },
   "outputs": [],
   "source": [
    "def make_plot(r):\n",
    "    print \"Current r: \" + str(r)\n",
    "    return plot(lambda x: arg(m_mu(CC(r * e^(I*x)))), (0, 2*pi), plot_points=100)\n",
    "\n",
    "plots = [make_plot(r) for r in sxrange(0, 1,.01)]\n",
    "print \"Finished!\""
   ]
  },
  {
   "cell_type": "code",
   "execution_count": null,
   "metadata": {
    "collapsed": true
   },
   "outputs": [],
   "source": [
    "anim = animate(plots)"
   ]
  },
  {
   "cell_type": "code",
   "execution_count": null,
   "metadata": {
    "collapsed": true
   },
   "outputs": [],
   "source": [
    "anim.save(filename = \"gif.mp4\", use_ffmpeg=True)"
   ]
  },
  {
   "cell_type": "code",
   "execution_count": null,
   "metadata": {
    "collapsed": false
   },
   "outputs": [],
   "source": [
    "anim.show()"
   ]
  },
  {
   "cell_type": "code",
   "execution_count": null,
   "metadata": {
    "collapsed": true
   },
   "outputs": [],
   "source": []
  },
  {
   "cell_type": "code",
   "execution_count": null,
   "metadata": {
    "collapsed": false
   },
   "outputs": [],
   "source": [
    "plots[-1]"
   ]
  },
  {
   "cell_type": "code",
   "execution_count": null,
   "metadata": {
    "collapsed": false
   },
   "outputs": [],
   "source": [
    "#plots[-2] + sum(line([((2 * pi * i) / pr, 0), ((2 * pi * i) / pr, 20)], color=\"red\") for pr in [17, 19] for i in range(1, pr) if pr in Primes())"
   ]
  },
  {
   "cell_type": "code",
   "execution_count": null,
   "metadata": {
    "collapsed": false
   },
   "outputs": [],
   "source": [
    "for p in plots:\n",
    "    p.axes_range(ymin=0, ymax=22)"
   ]
  },
  {
   "cell_type": "code",
   "execution_count": null,
   "metadata": {
    "collapsed": false
   },
   "outputs": [],
   "source": [
    "animate(plots).save(filename = \"gif.mp4\", use_ffmpeg=True)"
   ]
  },
  {
   "cell_type": "code",
   "execution_count": null,
   "metadata": {
    "collapsed": true
   },
   "outputs": [],
   "source": []
  },
  {
   "cell_type": "code",
   "execution_count": null,
   "metadata": {
    "collapsed": false
   },
   "outputs": [],
   "source": [
    "plot3d(lambda x, y: abs(m_mu(CC(x * e^(I*y)))), (0, .99), (0, 2*pi), plot_points = 200)"
   ]
  },
  {
   "cell_type": "code",
   "execution_count": null,
   "metadata": {
    "collapsed": true
   },
   "outputs": [],
   "source": []
  },
  {
   "cell_type": "code",
   "execution_count": null,
   "metadata": {
    "collapsed": true
   },
   "outputs": [],
   "source": []
  }
 ],
 "metadata": {
  "kernelspec": {
   "display_name": "SageMath 7.5.1",
   "language": "",
   "name": "sagemath"
  },
  "language_info": {
   "codemirror_mode": {
    "name": "ipython",
    "version": 2
   },
   "file_extension": ".py",
   "mimetype": "text/x-python",
   "name": "python",
   "nbconvert_exporter": "python",
   "pygments_lexer": "ipython2",
   "version": "2.7.13"
  }
 },
 "nbformat": 4,
 "nbformat_minor": 2
}
